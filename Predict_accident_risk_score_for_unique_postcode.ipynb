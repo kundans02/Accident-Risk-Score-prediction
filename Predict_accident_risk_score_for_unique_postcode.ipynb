{
  "cells": [
    {
      "cell_type": "markdown",
      "source": [
        "[Open to colab](https://colab.research.google.com/drive/1FrAXdceVXoZi_c3jfTp0_Bp6-wSTf_Qu?usp=sharing#scrollTo=_qlkkRCenrHQ)"
      ],
      "metadata": {
        "id": "_qlkkRCenrHQ"
      }
    },
    {
      "cell_type": "markdown",
      "metadata": {
        "id": "77cgSWQr4S-Y"
      },
      "source": [
        "Connecting google colab notebook to google drive"
      ]
    },
    {
      "cell_type": "code",
      "execution_count": null,
      "metadata": {
        "colab": {
          "base_uri": "https://localhost:8080/"
        },
        "id": "eo-uuqM54LR-",
        "outputId": "83a045da-73eb-47b9-a409-b3464645c1d3"
      },
      "outputs": [
        {
          "name": "stdout",
          "output_type": "stream",
          "text": [
            "Mounted at /content/drive\n"
          ]
        }
      ],
      "source": [
        "from google.colab import drive \n",
        "drive.mount(\"/content/drive\")"
      ]
    },
    {
      "cell_type": "markdown",
      "metadata": {
        "id": "fs03ElTI410c"
      },
      "source": [
        "\n",
        "\n",
        "\n",
        "\n",
        "Importing neccessary libraries"
      ]
    },
    {
      "cell_type": "code",
      "execution_count": null,
      "metadata": {
        "id": "6Uag8oNP4nUG"
      },
      "outputs": [],
      "source": [
        "import pandas as pd\n",
        "import numpy as np\n",
        "import matplotlib.pyplot as plt\n",
        "import seaborn as sns"
      ]
    },
    {
      "cell_type": "markdown",
      "metadata": {
        "id": "fOnIWfft5Bbe"
      },
      "source": [
        "Reading the data and cleaning the data"
      ]
    },
    {
      "cell_type": "code",
      "execution_count": null,
      "metadata": {
        "id": "0P1JpIPJ452P"
      },
      "outputs": [],
      "source": [
        "train=pd.read_csv(\"/content/drive/MyDrive/prjct/train.csv\")\n",
        "pd.set_option('max_columns', None)"
      ]
    },
    {
      "cell_type": "code",
      "execution_count": null,
      "metadata": {
        "colab": {
          "base_uri": "https://localhost:8080/",
          "height": 374
        },
        "id": "z-TakYj95H4J",
        "outputId": "a570e55e-96b0-49de-d5a6-d4f357e942a1"
      },
      "outputs": [
        {
          "data": {
            "text/html": [
              "\n",
              "  <div id=\"df-a6cfc849-16d2-44d6-946b-4d3c64ffa98e\">\n",
              "    <div class=\"colab-df-container\">\n",
              "      <div>\n",
              "<style scoped>\n",
              "    .dataframe tbody tr th:only-of-type {\n",
              "        vertical-align: middle;\n",
              "    }\n",
              "\n",
              "    .dataframe tbody tr th {\n",
              "        vertical-align: top;\n",
              "    }\n",
              "\n",
              "    .dataframe thead th {\n",
              "        text-align: right;\n",
              "    }\n",
              "</style>\n",
              "<table border=\"1\" class=\"dataframe\">\n",
              "  <thead>\n",
              "    <tr style=\"text-align: right;\">\n",
              "      <th></th>\n",
              "      <th>Accident_ID</th>\n",
              "      <th>Police_Force</th>\n",
              "      <th>Number_of_Vehicles</th>\n",
              "      <th>Number_of_Casualties</th>\n",
              "      <th>Date</th>\n",
              "      <th>Day_of_Week</th>\n",
              "      <th>Time</th>\n",
              "      <th>Local_Authority_(District)</th>\n",
              "      <th>Local_Authority_(Highway)</th>\n",
              "      <th>1st_Road_Class</th>\n",
              "      <th>1st_Road_Number</th>\n",
              "      <th>Road_Type</th>\n",
              "      <th>Speed_limit</th>\n",
              "      <th>2nd_Road_Class</th>\n",
              "      <th>2nd_Road_Number</th>\n",
              "      <th>Pedestrian_Crossing-Human_Control</th>\n",
              "      <th>Pedestrian_Crossing-Physical_Facilities</th>\n",
              "      <th>Light_Conditions</th>\n",
              "      <th>Weather_Conditions</th>\n",
              "      <th>Road_Surface_Conditions</th>\n",
              "      <th>Special_Conditions_at_Site</th>\n",
              "      <th>Carriageway_Hazards</th>\n",
              "      <th>Urban_or_Rural_Area</th>\n",
              "      <th>Did_Police_Officer_Attend_Scene_of_Accident</th>\n",
              "      <th>state</th>\n",
              "      <th>postcode</th>\n",
              "      <th>country</th>\n",
              "    </tr>\n",
              "  </thead>\n",
              "  <tbody>\n",
              "    <tr>\n",
              "      <th>0</th>\n",
              "      <td>1</td>\n",
              "      <td>34</td>\n",
              "      <td>2</td>\n",
              "      <td>1</td>\n",
              "      <td>19/12/12</td>\n",
              "      <td>7</td>\n",
              "      <td>13:20</td>\n",
              "      <td>344</td>\n",
              "      <td>E10000032</td>\n",
              "      <td>4</td>\n",
              "      <td>395</td>\n",
              "      <td>Single carriageway</td>\n",
              "      <td>30</td>\n",
              "      <td>-1</td>\n",
              "      <td>0</td>\n",
              "      <td>None within 50 metres</td>\n",
              "      <td>No physical crossing within 50 meters</td>\n",
              "      <td>Daylight: Street light present</td>\n",
              "      <td>Fine without high winds</td>\n",
              "      <td>Dry</td>\n",
              "      <td>Ol or diesel</td>\n",
              "      <td>None</td>\n",
              "      <td>1</td>\n",
              "      <td>Yes</td>\n",
              "      <td>England</td>\n",
              "      <td>OX3 9UP</td>\n",
              "      <td>United Kingdom</td>\n",
              "    </tr>\n",
              "    <tr>\n",
              "      <th>1</th>\n",
              "      <td>2</td>\n",
              "      <td>5</td>\n",
              "      <td>2</td>\n",
              "      <td>1</td>\n",
              "      <td>02/11/12</td>\n",
              "      <td>4</td>\n",
              "      <td>7:53</td>\n",
              "      <td>102</td>\n",
              "      <td>E09000026</td>\n",
              "      <td>3</td>\n",
              "      <td>13</td>\n",
              "      <td>One way street</td>\n",
              "      <td>30</td>\n",
              "      <td>-1</td>\n",
              "      <td>0</td>\n",
              "      <td>None within 50 metres</td>\n",
              "      <td>No physical crossing within 50 meters</td>\n",
              "      <td>Daylight: Street light present</td>\n",
              "      <td>Raining without high winds</td>\n",
              "      <td>Dry</td>\n",
              "      <td>None</td>\n",
              "      <td>None</td>\n",
              "      <td>1</td>\n",
              "      <td>No</td>\n",
              "      <td>England</td>\n",
              "      <td>S35 4EZ</td>\n",
              "      <td>United Kingdom</td>\n",
              "    </tr>\n",
              "    <tr>\n",
              "      <th>2</th>\n",
              "      <td>3</td>\n",
              "      <td>1</td>\n",
              "      <td>2</td>\n",
              "      <td>1</td>\n",
              "      <td>02/11/12</td>\n",
              "      <td>4</td>\n",
              "      <td>16:00</td>\n",
              "      <td>531</td>\n",
              "      <td>E10000016</td>\n",
              "      <td>6</td>\n",
              "      <td>8</td>\n",
              "      <td>Roundabout</td>\n",
              "      <td>40</td>\n",
              "      <td>6</td>\n",
              "      <td>0</td>\n",
              "      <td>None within 50 metres</td>\n",
              "      <td>Zebra crossing</td>\n",
              "      <td>Daylight: Street light present</td>\n",
              "      <td>Fine without high winds</td>\n",
              "      <td>Dry</td>\n",
              "      <td>None</td>\n",
              "      <td>None</td>\n",
              "      <td>1</td>\n",
              "      <td>No</td>\n",
              "      <td>England</td>\n",
              "      <td>BN21 2XR</td>\n",
              "      <td>United Kingdom</td>\n",
              "    </tr>\n",
              "    <tr>\n",
              "      <th>3</th>\n",
              "      <td>4</td>\n",
              "      <td>1</td>\n",
              "      <td>1</td>\n",
              "      <td>1</td>\n",
              "      <td>06/05/12</td>\n",
              "      <td>1</td>\n",
              "      <td>16:50</td>\n",
              "      <td>7</td>\n",
              "      <td>E08000035</td>\n",
              "      <td>6</td>\n",
              "      <td>13</td>\n",
              "      <td>Single carriageway</td>\n",
              "      <td>30</td>\n",
              "      <td>6</td>\n",
              "      <td>0</td>\n",
              "      <td>None within 50 metres</td>\n",
              "      <td>No physical crossing within 50 meters</td>\n",
              "      <td>Daylight: Street light present</td>\n",
              "      <td>Fine without high winds</td>\n",
              "      <td>Dry</td>\n",
              "      <td>Roadworks</td>\n",
              "      <td>None</td>\n",
              "      <td>1</td>\n",
              "      <td>Yes</td>\n",
              "      <td>England</td>\n",
              "      <td>TA20 3PT</td>\n",
              "      <td>United Kingdom</td>\n",
              "    </tr>\n",
              "    <tr>\n",
              "      <th>4</th>\n",
              "      <td>5</td>\n",
              "      <td>46</td>\n",
              "      <td>1</td>\n",
              "      <td>1</td>\n",
              "      <td>30/06/12</td>\n",
              "      <td>3</td>\n",
              "      <td>13:25</td>\n",
              "      <td>519</td>\n",
              "      <td>E10000031</td>\n",
              "      <td>3</td>\n",
              "      <td>24</td>\n",
              "      <td>Dual carriageway</td>\n",
              "      <td>30</td>\n",
              "      <td>6</td>\n",
              "      <td>0</td>\n",
              "      <td>None within 50 metres</td>\n",
              "      <td>Zebra crossing</td>\n",
              "      <td>Daylight: Street light present</td>\n",
              "      <td>Fine without high winds</td>\n",
              "      <td>Dry</td>\n",
              "      <td>None</td>\n",
              "      <td>None</td>\n",
              "      <td>1</td>\n",
              "      <td>No</td>\n",
              "      <td>England</td>\n",
              "      <td>DN20 0QF</td>\n",
              "      <td>United Kingdom</td>\n",
              "    </tr>\n",
              "  </tbody>\n",
              "</table>\n",
              "</div>\n",
              "      <button class=\"colab-df-convert\" onclick=\"convertToInteractive('df-a6cfc849-16d2-44d6-946b-4d3c64ffa98e')\"\n",
              "              title=\"Convert this dataframe to an interactive table.\"\n",
              "              style=\"display:none;\">\n",
              "        \n",
              "  <svg xmlns=\"http://www.w3.org/2000/svg\" height=\"24px\"viewBox=\"0 0 24 24\"\n",
              "       width=\"24px\">\n",
              "    <path d=\"M0 0h24v24H0V0z\" fill=\"none\"/>\n",
              "    <path d=\"M18.56 5.44l.94 2.06.94-2.06 2.06-.94-2.06-.94-.94-2.06-.94 2.06-2.06.94zm-11 1L8.5 8.5l.94-2.06 2.06-.94-2.06-.94L8.5 2.5l-.94 2.06-2.06.94zm10 10l.94 2.06.94-2.06 2.06-.94-2.06-.94-.94-2.06-.94 2.06-2.06.94z\"/><path d=\"M17.41 7.96l-1.37-1.37c-.4-.4-.92-.59-1.43-.59-.52 0-1.04.2-1.43.59L10.3 9.45l-7.72 7.72c-.78.78-.78 2.05 0 2.83L4 21.41c.39.39.9.59 1.41.59.51 0 1.02-.2 1.41-.59l7.78-7.78 2.81-2.81c.8-.78.8-2.07 0-2.86zM5.41 20L4 18.59l7.72-7.72 1.47 1.35L5.41 20z\"/>\n",
              "  </svg>\n",
              "      </button>\n",
              "      \n",
              "  <style>\n",
              "    .colab-df-container {\n",
              "      display:flex;\n",
              "      flex-wrap:wrap;\n",
              "      gap: 12px;\n",
              "    }\n",
              "\n",
              "    .colab-df-convert {\n",
              "      background-color: #E8F0FE;\n",
              "      border: none;\n",
              "      border-radius: 50%;\n",
              "      cursor: pointer;\n",
              "      display: none;\n",
              "      fill: #1967D2;\n",
              "      height: 32px;\n",
              "      padding: 0 0 0 0;\n",
              "      width: 32px;\n",
              "    }\n",
              "\n",
              "    .colab-df-convert:hover {\n",
              "      background-color: #E2EBFA;\n",
              "      box-shadow: 0px 1px 2px rgba(60, 64, 67, 0.3), 0px 1px 3px 1px rgba(60, 64, 67, 0.15);\n",
              "      fill: #174EA6;\n",
              "    }\n",
              "\n",
              "    [theme=dark] .colab-df-convert {\n",
              "      background-color: #3B4455;\n",
              "      fill: #D2E3FC;\n",
              "    }\n",
              "\n",
              "    [theme=dark] .colab-df-convert:hover {\n",
              "      background-color: #434B5C;\n",
              "      box-shadow: 0px 1px 3px 1px rgba(0, 0, 0, 0.15);\n",
              "      filter: drop-shadow(0px 1px 2px rgba(0, 0, 0, 0.3));\n",
              "      fill: #FFFFFF;\n",
              "    }\n",
              "  </style>\n",
              "\n",
              "      <script>\n",
              "        const buttonEl =\n",
              "          document.querySelector('#df-a6cfc849-16d2-44d6-946b-4d3c64ffa98e button.colab-df-convert');\n",
              "        buttonEl.style.display =\n",
              "          google.colab.kernel.accessAllowed ? 'block' : 'none';\n",
              "\n",
              "        async function convertToInteractive(key) {\n",
              "          const element = document.querySelector('#df-a6cfc849-16d2-44d6-946b-4d3c64ffa98e');\n",
              "          const dataTable =\n",
              "            await google.colab.kernel.invokeFunction('convertToInteractive',\n",
              "                                                     [key], {});\n",
              "          if (!dataTable) return;\n",
              "\n",
              "          const docLinkHtml = 'Like what you see? Visit the ' +\n",
              "            '<a target=\"_blank\" href=https://colab.research.google.com/notebooks/data_table.ipynb>data table notebook</a>'\n",
              "            + ' to learn more about interactive tables.';\n",
              "          element.innerHTML = '';\n",
              "          dataTable['output_type'] = 'display_data';\n",
              "          await google.colab.output.renderOutput(dataTable, element);\n",
              "          const docLink = document.createElement('div');\n",
              "          docLink.innerHTML = docLinkHtml;\n",
              "          element.appendChild(docLink);\n",
              "        }\n",
              "      </script>\n",
              "    </div>\n",
              "  </div>\n",
              "  "
            ],
            "text/plain": [
              "   Accident_ID  Police_Force  Number_of_Vehicles  Number_of_Casualties  \\\n",
              "0            1            34                   2                     1   \n",
              "1            2             5                   2                     1   \n",
              "2            3             1                   2                     1   \n",
              "3            4             1                   1                     1   \n",
              "4            5            46                   1                     1   \n",
              "\n",
              "       Date  Day_of_Week   Time  Local_Authority_(District)  \\\n",
              "0  19/12/12            7  13:20                         344   \n",
              "1  02/11/12            4   7:53                         102   \n",
              "2  02/11/12            4  16:00                         531   \n",
              "3  06/05/12            1  16:50                           7   \n",
              "4  30/06/12            3  13:25                         519   \n",
              "\n",
              "  Local_Authority_(Highway)  1st_Road_Class  1st_Road_Number  \\\n",
              "0                 E10000032               4              395   \n",
              "1                 E09000026               3               13   \n",
              "2                 E10000016               6                8   \n",
              "3                 E08000035               6               13   \n",
              "4                 E10000031               3               24   \n",
              "\n",
              "            Road_Type  Speed_limit  2nd_Road_Class  2nd_Road_Number  \\\n",
              "0  Single carriageway           30              -1                0   \n",
              "1      One way street           30              -1                0   \n",
              "2          Roundabout           40               6                0   \n",
              "3  Single carriageway           30               6                0   \n",
              "4    Dual carriageway           30               6                0   \n",
              "\n",
              "  Pedestrian_Crossing-Human_Control Pedestrian_Crossing-Physical_Facilities  \\\n",
              "0             None within 50 metres   No physical crossing within 50 meters   \n",
              "1             None within 50 metres   No physical crossing within 50 meters   \n",
              "2             None within 50 metres                          Zebra crossing   \n",
              "3             None within 50 metres   No physical crossing within 50 meters   \n",
              "4             None within 50 metres                          Zebra crossing   \n",
              "\n",
              "                 Light_Conditions          Weather_Conditions  \\\n",
              "0  Daylight: Street light present     Fine without high winds   \n",
              "1  Daylight: Street light present  Raining without high winds   \n",
              "2  Daylight: Street light present     Fine without high winds   \n",
              "3  Daylight: Street light present     Fine without high winds   \n",
              "4  Daylight: Street light present     Fine without high winds   \n",
              "\n",
              "  Road_Surface_Conditions Special_Conditions_at_Site Carriageway_Hazards  \\\n",
              "0                     Dry               Ol or diesel                None   \n",
              "1                     Dry                       None                None   \n",
              "2                     Dry                       None                None   \n",
              "3                     Dry                  Roadworks                None   \n",
              "4                     Dry                       None                None   \n",
              "\n",
              "   Urban_or_Rural_Area Did_Police_Officer_Attend_Scene_of_Accident    state  \\\n",
              "0                    1                                         Yes  England   \n",
              "1                    1                                          No  England   \n",
              "2                    1                                          No  England   \n",
              "3                    1                                         Yes  England   \n",
              "4                    1                                          No  England   \n",
              "\n",
              "   postcode         country  \n",
              "0   OX3 9UP  United Kingdom  \n",
              "1   S35 4EZ  United Kingdom  \n",
              "2  BN21 2XR  United Kingdom  \n",
              "3  TA20 3PT  United Kingdom  \n",
              "4  DN20 0QF  United Kingdom  "
            ]
          },
          "execution_count": 5,
          "metadata": {},
          "output_type": "execute_result"
        }
      ],
      "source": [
        "train.head()"
      ]
    },
    {
      "cell_type": "code",
      "execution_count": null,
      "metadata": {
        "colab": {
          "base_uri": "https://localhost:8080/"
        },
        "id": "oK6sRkJG5TwX",
        "outputId": "f4d8e53a-ef15-426e-8257-a394def533a9"
      },
      "outputs": [
        {
          "data": {
            "text/plain": [
              "(478741, 27)"
            ]
          },
          "execution_count": 6,
          "metadata": {},
          "output_type": "execute_result"
        }
      ],
      "source": [
        "train.shape"
      ]
    },
    {
      "cell_type": "code",
      "execution_count": null,
      "metadata": {
        "colab": {
          "base_uri": "https://localhost:8080/"
        },
        "id": "I1LT3OUe6Soc",
        "outputId": "5cccf329-c967-49b1-8228-44416d2911da"
      },
      "outputs": [
        {
          "data": {
            "text/plain": [
              "Accident_ID                                      0\n",
              "Police_Force                                     0\n",
              "Number_of_Vehicles                               0\n",
              "Number_of_Casualties                             0\n",
              "Date                                             0\n",
              "Day_of_Week                                      0\n",
              "Time                                            14\n",
              "Local_Authority_(District)                       0\n",
              "Local_Authority_(Highway)                        0\n",
              "1st_Road_Class                                   0\n",
              "1st_Road_Number                                  0\n",
              "Road_Type                                        0\n",
              "Speed_limit                                      0\n",
              "2nd_Road_Class                                   0\n",
              "2nd_Road_Number                                  0\n",
              "Pedestrian_Crossing-Human_Control                0\n",
              "Pedestrian_Crossing-Physical_Facilities          0\n",
              "Light_Conditions                                 0\n",
              "Weather_Conditions                               0\n",
              "Road_Surface_Conditions                        452\n",
              "Special_Conditions_at_Site                      63\n",
              "Carriageway_Hazards                              0\n",
              "Urban_or_Rural_Area                              0\n",
              "Did_Police_Officer_Attend_Scene_of_Accident      0\n",
              "state                                            0\n",
              "postcode                                         0\n",
              "country                                          0\n",
              "dtype: int64"
            ]
          },
          "execution_count": 7,
          "metadata": {},
          "output_type": "execute_result"
        }
      ],
      "source": [
        "train.isnull().sum()"
      ]
    },
    {
      "cell_type": "markdown",
      "metadata": {
        "id": "72jQ62CG6Zht"
      },
      "source": [
        "Lets remove the nulls , we have a lot of rows of data for training so now we are just removing the rows that have null values"
      ]
    },
    {
      "cell_type": "code",
      "execution_count": null,
      "metadata": {
        "id": "rznAZeCU6-Tj"
      },
      "outputs": [],
      "source": [
        "train.dropna(axis=0,inplace=True)"
      ]
    },
    {
      "cell_type": "code",
      "execution_count": null,
      "metadata": {
        "colab": {
          "base_uri": "https://localhost:8080/"
        },
        "id": "KHq5P65l7JGk",
        "outputId": "d865a713-ff05-42e6-8e49-a6ad4d7a7e90"
      },
      "outputs": [
        {
          "data": {
            "text/plain": [
              "Accident_ID                                    0\n",
              "Police_Force                                   0\n",
              "Number_of_Vehicles                             0\n",
              "Number_of_Casualties                           0\n",
              "Date                                           0\n",
              "Day_of_Week                                    0\n",
              "Time                                           0\n",
              "Local_Authority_(District)                     0\n",
              "Local_Authority_(Highway)                      0\n",
              "1st_Road_Class                                 0\n",
              "1st_Road_Number                                0\n",
              "Road_Type                                      0\n",
              "Speed_limit                                    0\n",
              "2nd_Road_Class                                 0\n",
              "2nd_Road_Number                                0\n",
              "Pedestrian_Crossing-Human_Control              0\n",
              "Pedestrian_Crossing-Physical_Facilities        0\n",
              "Light_Conditions                               0\n",
              "Weather_Conditions                             0\n",
              "Road_Surface_Conditions                        0\n",
              "Special_Conditions_at_Site                     0\n",
              "Carriageway_Hazards                            0\n",
              "Urban_or_Rural_Area                            0\n",
              "Did_Police_Officer_Attend_Scene_of_Accident    0\n",
              "state                                          0\n",
              "postcode                                       0\n",
              "country                                        0\n",
              "dtype: int64"
            ]
          },
          "execution_count": 9,
          "metadata": {},
          "output_type": "execute_result"
        }
      ],
      "source": [
        "train.isnull().sum()"
      ]
    },
    {
      "cell_type": "code",
      "execution_count": null,
      "metadata": {
        "colab": {
          "base_uri": "https://localhost:8080/"
        },
        "id": "1dX6NENU5XSr",
        "outputId": "b8a453b2-dc33-4ef9-d073-a9c1a2d4d3b9"
      },
      "outputs": [
        {
          "data": {
            "text/plain": [
              "Accident_ID                                     int64\n",
              "Police_Force                                    int64\n",
              "Number_of_Vehicles                              int64\n",
              "Number_of_Casualties                            int64\n",
              "Date                                           object\n",
              "Day_of_Week                                     int64\n",
              "Time                                           object\n",
              "Local_Authority_(District)                      int64\n",
              "Local_Authority_(Highway)                      object\n",
              "1st_Road_Class                                  int64\n",
              "1st_Road_Number                                 int64\n",
              "Road_Type                                      object\n",
              "Speed_limit                                     int64\n",
              "2nd_Road_Class                                  int64\n",
              "2nd_Road_Number                                 int64\n",
              "Pedestrian_Crossing-Human_Control              object\n",
              "Pedestrian_Crossing-Physical_Facilities        object\n",
              "Light_Conditions                               object\n",
              "Weather_Conditions                             object\n",
              "Road_Surface_Conditions                        object\n",
              "Special_Conditions_at_Site                     object\n",
              "Carriageway_Hazards                            object\n",
              "Urban_or_Rural_Area                             int64\n",
              "Did_Police_Officer_Attend_Scene_of_Accident    object\n",
              "state                                          object\n",
              "postcode                                       object\n",
              "country                                        object\n",
              "dtype: object"
            ]
          },
          "execution_count": 10,
          "metadata": {},
          "output_type": "execute_result"
        }
      ],
      "source": [
        "train.dtypes"
      ]
    },
    {
      "cell_type": "markdown",
      "metadata": {
        "id": "_mm2PQaF6DUm"
      },
      "source": [
        "Date, Time column should have date-time datatype not object so lets change them to datetime.\n",
        "\n"
      ]
    },
    {
      "cell_type": "code",
      "execution_count": null,
      "metadata": {
        "id": "2ESTjU_I6BiQ"
      },
      "outputs": [],
      "source": [
        "def change_Date_and_time(data):\n",
        "  data.loc[:,\"Date\"]=pd.to_datetime(data.loc[:,\"Date\"],format=\"%d/%m/%y\")\n",
        "  data.loc[:,\"day_in_month\"]=data.loc[:,\"Date\"].dt.day\n",
        "  data.loc[:,\"month_in_year\"]=data.loc[:,\"Date\"].dt.month\n",
        "  data.loc[:,\"year\"]=data.loc[:,\"Date\"].dt.year\n",
        "  data.drop(\"Date\",axis=1,inplace=True)\n",
        "  data.loc[:,\"Time\"]=pd.to_datetime(data.loc[:,\"Time\"],format=\"%H:%M\")\n",
        "  data.loc[:,\"Time\"]=data.loc[:,\"Time\"].round(\"H\")\n",
        "  data.loc[:,\"time of the day\"]=data.loc[:,\"Time\"].dt.hour\n",
        "  data.drop(\"Time\",axis=1,inplace=True)\n",
        "  \n"
      ]
    },
    {
      "cell_type": "code",
      "execution_count": null,
      "metadata": {
        "id": "m0EJBEXL_kju"
      },
      "outputs": [],
      "source": [
        "change_Date_and_time(train)"
      ]
    },
    {
      "cell_type": "code",
      "execution_count": null,
      "metadata": {
        "colab": {
          "base_uri": "https://localhost:8080/",
          "height": 408
        },
        "id": "Vihom4OW_t8M",
        "outputId": "aa41e108-ec10-4fc0-ee41-9a38bad04d95"
      },
      "outputs": [
        {
          "data": {
            "text/html": [
              "\n",
              "  <div id=\"df-19a8c3d4-7bad-456e-b42b-42e678139fae\">\n",
              "    <div class=\"colab-df-container\">\n",
              "      <div>\n",
              "<style scoped>\n",
              "    .dataframe tbody tr th:only-of-type {\n",
              "        vertical-align: middle;\n",
              "    }\n",
              "\n",
              "    .dataframe tbody tr th {\n",
              "        vertical-align: top;\n",
              "    }\n",
              "\n",
              "    .dataframe thead th {\n",
              "        text-align: right;\n",
              "    }\n",
              "</style>\n",
              "<table border=\"1\" class=\"dataframe\">\n",
              "  <thead>\n",
              "    <tr style=\"text-align: right;\">\n",
              "      <th></th>\n",
              "      <th>Accident_ID</th>\n",
              "      <th>Police_Force</th>\n",
              "      <th>Number_of_Vehicles</th>\n",
              "      <th>Number_of_Casualties</th>\n",
              "      <th>Day_of_Week</th>\n",
              "      <th>Local_Authority_(District)</th>\n",
              "      <th>Local_Authority_(Highway)</th>\n",
              "      <th>1st_Road_Class</th>\n",
              "      <th>1st_Road_Number</th>\n",
              "      <th>Road_Type</th>\n",
              "      <th>Speed_limit</th>\n",
              "      <th>2nd_Road_Class</th>\n",
              "      <th>2nd_Road_Number</th>\n",
              "      <th>Pedestrian_Crossing-Human_Control</th>\n",
              "      <th>Pedestrian_Crossing-Physical_Facilities</th>\n",
              "      <th>Light_Conditions</th>\n",
              "      <th>Weather_Conditions</th>\n",
              "      <th>Road_Surface_Conditions</th>\n",
              "      <th>Special_Conditions_at_Site</th>\n",
              "      <th>Carriageway_Hazards</th>\n",
              "      <th>Urban_or_Rural_Area</th>\n",
              "      <th>Did_Police_Officer_Attend_Scene_of_Accident</th>\n",
              "      <th>state</th>\n",
              "      <th>postcode</th>\n",
              "      <th>country</th>\n",
              "      <th>day_in_month</th>\n",
              "      <th>month_in_year</th>\n",
              "      <th>year</th>\n",
              "      <th>time of the day</th>\n",
              "    </tr>\n",
              "  </thead>\n",
              "  <tbody>\n",
              "    <tr>\n",
              "      <th>0</th>\n",
              "      <td>1</td>\n",
              "      <td>34</td>\n",
              "      <td>2</td>\n",
              "      <td>1</td>\n",
              "      <td>7</td>\n",
              "      <td>344</td>\n",
              "      <td>E10000032</td>\n",
              "      <td>4</td>\n",
              "      <td>395</td>\n",
              "      <td>Single carriageway</td>\n",
              "      <td>30</td>\n",
              "      <td>-1</td>\n",
              "      <td>0</td>\n",
              "      <td>None within 50 metres</td>\n",
              "      <td>No physical crossing within 50 meters</td>\n",
              "      <td>Daylight: Street light present</td>\n",
              "      <td>Fine without high winds</td>\n",
              "      <td>Dry</td>\n",
              "      <td>Ol or diesel</td>\n",
              "      <td>None</td>\n",
              "      <td>1</td>\n",
              "      <td>Yes</td>\n",
              "      <td>England</td>\n",
              "      <td>OX3 9UP</td>\n",
              "      <td>United Kingdom</td>\n",
              "      <td>19</td>\n",
              "      <td>12</td>\n",
              "      <td>2012</td>\n",
              "      <td>13</td>\n",
              "    </tr>\n",
              "    <tr>\n",
              "      <th>1</th>\n",
              "      <td>2</td>\n",
              "      <td>5</td>\n",
              "      <td>2</td>\n",
              "      <td>1</td>\n",
              "      <td>4</td>\n",
              "      <td>102</td>\n",
              "      <td>E09000026</td>\n",
              "      <td>3</td>\n",
              "      <td>13</td>\n",
              "      <td>One way street</td>\n",
              "      <td>30</td>\n",
              "      <td>-1</td>\n",
              "      <td>0</td>\n",
              "      <td>None within 50 metres</td>\n",
              "      <td>No physical crossing within 50 meters</td>\n",
              "      <td>Daylight: Street light present</td>\n",
              "      <td>Raining without high winds</td>\n",
              "      <td>Dry</td>\n",
              "      <td>None</td>\n",
              "      <td>None</td>\n",
              "      <td>1</td>\n",
              "      <td>No</td>\n",
              "      <td>England</td>\n",
              "      <td>S35 4EZ</td>\n",
              "      <td>United Kingdom</td>\n",
              "      <td>2</td>\n",
              "      <td>11</td>\n",
              "      <td>2012</td>\n",
              "      <td>8</td>\n",
              "    </tr>\n",
              "    <tr>\n",
              "      <th>2</th>\n",
              "      <td>3</td>\n",
              "      <td>1</td>\n",
              "      <td>2</td>\n",
              "      <td>1</td>\n",
              "      <td>4</td>\n",
              "      <td>531</td>\n",
              "      <td>E10000016</td>\n",
              "      <td>6</td>\n",
              "      <td>8</td>\n",
              "      <td>Roundabout</td>\n",
              "      <td>40</td>\n",
              "      <td>6</td>\n",
              "      <td>0</td>\n",
              "      <td>None within 50 metres</td>\n",
              "      <td>Zebra crossing</td>\n",
              "      <td>Daylight: Street light present</td>\n",
              "      <td>Fine without high winds</td>\n",
              "      <td>Dry</td>\n",
              "      <td>None</td>\n",
              "      <td>None</td>\n",
              "      <td>1</td>\n",
              "      <td>No</td>\n",
              "      <td>England</td>\n",
              "      <td>BN21 2XR</td>\n",
              "      <td>United Kingdom</td>\n",
              "      <td>2</td>\n",
              "      <td>11</td>\n",
              "      <td>2012</td>\n",
              "      <td>16</td>\n",
              "    </tr>\n",
              "    <tr>\n",
              "      <th>3</th>\n",
              "      <td>4</td>\n",
              "      <td>1</td>\n",
              "      <td>1</td>\n",
              "      <td>1</td>\n",
              "      <td>1</td>\n",
              "      <td>7</td>\n",
              "      <td>E08000035</td>\n",
              "      <td>6</td>\n",
              "      <td>13</td>\n",
              "      <td>Single carriageway</td>\n",
              "      <td>30</td>\n",
              "      <td>6</td>\n",
              "      <td>0</td>\n",
              "      <td>None within 50 metres</td>\n",
              "      <td>No physical crossing within 50 meters</td>\n",
              "      <td>Daylight: Street light present</td>\n",
              "      <td>Fine without high winds</td>\n",
              "      <td>Dry</td>\n",
              "      <td>Roadworks</td>\n",
              "      <td>None</td>\n",
              "      <td>1</td>\n",
              "      <td>Yes</td>\n",
              "      <td>England</td>\n",
              "      <td>TA20 3PT</td>\n",
              "      <td>United Kingdom</td>\n",
              "      <td>6</td>\n",
              "      <td>5</td>\n",
              "      <td>2012</td>\n",
              "      <td>17</td>\n",
              "    </tr>\n",
              "    <tr>\n",
              "      <th>4</th>\n",
              "      <td>5</td>\n",
              "      <td>46</td>\n",
              "      <td>1</td>\n",
              "      <td>1</td>\n",
              "      <td>3</td>\n",
              "      <td>519</td>\n",
              "      <td>E10000031</td>\n",
              "      <td>3</td>\n",
              "      <td>24</td>\n",
              "      <td>Dual carriageway</td>\n",
              "      <td>30</td>\n",
              "      <td>6</td>\n",
              "      <td>0</td>\n",
              "      <td>None within 50 metres</td>\n",
              "      <td>Zebra crossing</td>\n",
              "      <td>Daylight: Street light present</td>\n",
              "      <td>Fine without high winds</td>\n",
              "      <td>Dry</td>\n",
              "      <td>None</td>\n",
              "      <td>None</td>\n",
              "      <td>1</td>\n",
              "      <td>No</td>\n",
              "      <td>England</td>\n",
              "      <td>DN20 0QF</td>\n",
              "      <td>United Kingdom</td>\n",
              "      <td>30</td>\n",
              "      <td>6</td>\n",
              "      <td>2012</td>\n",
              "      <td>13</td>\n",
              "    </tr>\n",
              "  </tbody>\n",
              "</table>\n",
              "</div>\n",
              "      <button class=\"colab-df-convert\" onclick=\"convertToInteractive('df-19a8c3d4-7bad-456e-b42b-42e678139fae')\"\n",
              "              title=\"Convert this dataframe to an interactive table.\"\n",
              "              style=\"display:none;\">\n",
              "        \n",
              "  <svg xmlns=\"http://www.w3.org/2000/svg\" height=\"24px\"viewBox=\"0 0 24 24\"\n",
              "       width=\"24px\">\n",
              "    <path d=\"M0 0h24v24H0V0z\" fill=\"none\"/>\n",
              "    <path d=\"M18.56 5.44l.94 2.06.94-2.06 2.06-.94-2.06-.94-.94-2.06-.94 2.06-2.06.94zm-11 1L8.5 8.5l.94-2.06 2.06-.94-2.06-.94L8.5 2.5l-.94 2.06-2.06.94zm10 10l.94 2.06.94-2.06 2.06-.94-2.06-.94-.94-2.06-.94 2.06-2.06.94z\"/><path d=\"M17.41 7.96l-1.37-1.37c-.4-.4-.92-.59-1.43-.59-.52 0-1.04.2-1.43.59L10.3 9.45l-7.72 7.72c-.78.78-.78 2.05 0 2.83L4 21.41c.39.39.9.59 1.41.59.51 0 1.02-.2 1.41-.59l7.78-7.78 2.81-2.81c.8-.78.8-2.07 0-2.86zM5.41 20L4 18.59l7.72-7.72 1.47 1.35L5.41 20z\"/>\n",
              "  </svg>\n",
              "      </button>\n",
              "      \n",
              "  <style>\n",
              "    .colab-df-container {\n",
              "      display:flex;\n",
              "      flex-wrap:wrap;\n",
              "      gap: 12px;\n",
              "    }\n",
              "\n",
              "    .colab-df-convert {\n",
              "      background-color: #E8F0FE;\n",
              "      border: none;\n",
              "      border-radius: 50%;\n",
              "      cursor: pointer;\n",
              "      display: none;\n",
              "      fill: #1967D2;\n",
              "      height: 32px;\n",
              "      padding: 0 0 0 0;\n",
              "      width: 32px;\n",
              "    }\n",
              "\n",
              "    .colab-df-convert:hover {\n",
              "      background-color: #E2EBFA;\n",
              "      box-shadow: 0px 1px 2px rgba(60, 64, 67, 0.3), 0px 1px 3px 1px rgba(60, 64, 67, 0.15);\n",
              "      fill: #174EA6;\n",
              "    }\n",
              "\n",
              "    [theme=dark] .colab-df-convert {\n",
              "      background-color: #3B4455;\n",
              "      fill: #D2E3FC;\n",
              "    }\n",
              "\n",
              "    [theme=dark] .colab-df-convert:hover {\n",
              "      background-color: #434B5C;\n",
              "      box-shadow: 0px 1px 3px 1px rgba(0, 0, 0, 0.15);\n",
              "      filter: drop-shadow(0px 1px 2px rgba(0, 0, 0, 0.3));\n",
              "      fill: #FFFFFF;\n",
              "    }\n",
              "  </style>\n",
              "\n",
              "      <script>\n",
              "        const buttonEl =\n",
              "          document.querySelector('#df-19a8c3d4-7bad-456e-b42b-42e678139fae button.colab-df-convert');\n",
              "        buttonEl.style.display =\n",
              "          google.colab.kernel.accessAllowed ? 'block' : 'none';\n",
              "\n",
              "        async function convertToInteractive(key) {\n",
              "          const element = document.querySelector('#df-19a8c3d4-7bad-456e-b42b-42e678139fae');\n",
              "          const dataTable =\n",
              "            await google.colab.kernel.invokeFunction('convertToInteractive',\n",
              "                                                     [key], {});\n",
              "          if (!dataTable) return;\n",
              "\n",
              "          const docLinkHtml = 'Like what you see? Visit the ' +\n",
              "            '<a target=\"_blank\" href=https://colab.research.google.com/notebooks/data_table.ipynb>data table notebook</a>'\n",
              "            + ' to learn more about interactive tables.';\n",
              "          element.innerHTML = '';\n",
              "          dataTable['output_type'] = 'display_data';\n",
              "          await google.colab.output.renderOutput(dataTable, element);\n",
              "          const docLink = document.createElement('div');\n",
              "          docLink.innerHTML = docLinkHtml;\n",
              "          element.appendChild(docLink);\n",
              "        }\n",
              "      </script>\n",
              "    </div>\n",
              "  </div>\n",
              "  "
            ],
            "text/plain": [
              "   Accident_ID  Police_Force  Number_of_Vehicles  Number_of_Casualties  \\\n",
              "0            1            34                   2                     1   \n",
              "1            2             5                   2                     1   \n",
              "2            3             1                   2                     1   \n",
              "3            4             1                   1                     1   \n",
              "4            5            46                   1                     1   \n",
              "\n",
              "   Day_of_Week  Local_Authority_(District) Local_Authority_(Highway)  \\\n",
              "0            7                         344                 E10000032   \n",
              "1            4                         102                 E09000026   \n",
              "2            4                         531                 E10000016   \n",
              "3            1                           7                 E08000035   \n",
              "4            3                         519                 E10000031   \n",
              "\n",
              "   1st_Road_Class  1st_Road_Number           Road_Type  Speed_limit  \\\n",
              "0               4              395  Single carriageway           30   \n",
              "1               3               13      One way street           30   \n",
              "2               6                8          Roundabout           40   \n",
              "3               6               13  Single carriageway           30   \n",
              "4               3               24    Dual carriageway           30   \n",
              "\n",
              "   2nd_Road_Class  2nd_Road_Number Pedestrian_Crossing-Human_Control  \\\n",
              "0              -1                0             None within 50 metres   \n",
              "1              -1                0             None within 50 metres   \n",
              "2               6                0             None within 50 metres   \n",
              "3               6                0             None within 50 metres   \n",
              "4               6                0             None within 50 metres   \n",
              "\n",
              "  Pedestrian_Crossing-Physical_Facilities                Light_Conditions  \\\n",
              "0   No physical crossing within 50 meters  Daylight: Street light present   \n",
              "1   No physical crossing within 50 meters  Daylight: Street light present   \n",
              "2                          Zebra crossing  Daylight: Street light present   \n",
              "3   No physical crossing within 50 meters  Daylight: Street light present   \n",
              "4                          Zebra crossing  Daylight: Street light present   \n",
              "\n",
              "           Weather_Conditions Road_Surface_Conditions  \\\n",
              "0     Fine without high winds                     Dry   \n",
              "1  Raining without high winds                     Dry   \n",
              "2     Fine without high winds                     Dry   \n",
              "3     Fine without high winds                     Dry   \n",
              "4     Fine without high winds                     Dry   \n",
              "\n",
              "  Special_Conditions_at_Site Carriageway_Hazards  Urban_or_Rural_Area  \\\n",
              "0               Ol or diesel                None                    1   \n",
              "1                       None                None                    1   \n",
              "2                       None                None                    1   \n",
              "3                  Roadworks                None                    1   \n",
              "4                       None                None                    1   \n",
              "\n",
              "  Did_Police_Officer_Attend_Scene_of_Accident    state  postcode  \\\n",
              "0                                         Yes  England   OX3 9UP   \n",
              "1                                          No  England   S35 4EZ   \n",
              "2                                          No  England  BN21 2XR   \n",
              "3                                         Yes  England  TA20 3PT   \n",
              "4                                          No  England  DN20 0QF   \n",
              "\n",
              "          country  day_in_month  month_in_year  year  time of the day  \n",
              "0  United Kingdom            19             12  2012               13  \n",
              "1  United Kingdom             2             11  2012                8  \n",
              "2  United Kingdom             2             11  2012               16  \n",
              "3  United Kingdom             6              5  2012               17  \n",
              "4  United Kingdom            30              6  2012               13  "
            ]
          },
          "execution_count": 13,
          "metadata": {},
          "output_type": "execute_result"
        }
      ],
      "source": [
        "train.head()"
      ]
    },
    {
      "cell_type": "code",
      "execution_count": null,
      "metadata": {
        "colab": {
          "base_uri": "https://localhost:8080/"
        },
        "id": "4M3YwuWmCGIf",
        "outputId": "d0898a7b-f158-4e4c-a007-23663bb055fd"
      },
      "outputs": [
        {
          "data": {
            "text/plain": [
              "array([1, 3, 2, 4, 5])"
            ]
          },
          "execution_count": 14,
          "metadata": {},
          "output_type": "execute_result"
        }
      ],
      "source": [
        "train.Number_of_Casualties.unique()"
      ]
    },
    {
      "cell_type": "code",
      "execution_count": null,
      "metadata": {
        "colab": {
          "base_uri": "https://localhost:8080/"
        },
        "id": "0px_pzZf_zLF",
        "outputId": "cdd79c83-4d9f-45de-b1fc-2373a482a947"
      },
      "outputs": [
        {
          "data": {
            "text/plain": [
              "Accident_ID                                    478212\n",
              "Police_Force                                       66\n",
              "Number_of_Vehicles                                  4\n",
              "Number_of_Casualties                                5\n",
              "Day_of_Week                                         7\n",
              "Local_Authority_(District)                        880\n",
              "Local_Authority_(Highway)                         207\n",
              "1st_Road_Class                                      5\n",
              "1st_Road_Number                                  5463\n",
              "Road_Type                                           6\n",
              "Speed_limit                                         6\n",
              "2nd_Road_Class                                      5\n",
              "2nd_Road_Number                                     1\n",
              "Pedestrian_Crossing-Human_Control                   3\n",
              "Pedestrian_Crossing-Physical_Facilities             6\n",
              "Light_Conditions                                    5\n",
              "Weather_Conditions                                  9\n",
              "Road_Surface_Conditions                             5\n",
              "Special_Conditions_at_Site                          8\n",
              "Carriageway_Hazards                                 6\n",
              "Urban_or_Rural_Area                                 2\n",
              "Did_Police_Officer_Attend_Scene_of_Accident         2\n",
              "state                                               3\n",
              "postcode                                        95614\n",
              "country                                             1\n",
              "day_in_month                                       31\n",
              "month_in_year                                      12\n",
              "year                                                1\n",
              "time of the day                                    24\n",
              "dtype: int64"
            ]
          },
          "execution_count": 15,
          "metadata": {},
          "output_type": "execute_result"
        }
      ],
      "source": [
        "train.nunique()"
      ]
    },
    {
      "cell_type": "markdown",
      "metadata": {
        "id": "YJEqOk-NAVom"
      },
      "source": [
        "\"2nd_Road_Number\" , \"country\" , \"year\" columns have only one unique value so we are droping them because they dnt have any info."
      ]
    },
    {
      "cell_type": "code",
      "execution_count": null,
      "metadata": {
        "id": "qnkOXXXT_68z"
      },
      "outputs": [],
      "source": [
        "\n",
        "\n",
        "train.drop([\"2nd_Road_Number\" , \"country\" , \"year\" ],axis=1,inplace=True)"
      ]
    },
    {
      "cell_type": "code",
      "execution_count": null,
      "metadata": {
        "colab": {
          "base_uri": "https://localhost:8080/",
          "height": 408
        },
        "id": "JTQJOMIeAJZn",
        "outputId": "1bbc3f71-e17d-437e-effb-a21a71f6bc3b"
      },
      "outputs": [
        {
          "data": {
            "text/html": [
              "\n",
              "  <div id=\"df-073212c0-7f2d-4336-a7e7-4ec53414c723\">\n",
              "    <div class=\"colab-df-container\">\n",
              "      <div>\n",
              "<style scoped>\n",
              "    .dataframe tbody tr th:only-of-type {\n",
              "        vertical-align: middle;\n",
              "    }\n",
              "\n",
              "    .dataframe tbody tr th {\n",
              "        vertical-align: top;\n",
              "    }\n",
              "\n",
              "    .dataframe thead th {\n",
              "        text-align: right;\n",
              "    }\n",
              "</style>\n",
              "<table border=\"1\" class=\"dataframe\">\n",
              "  <thead>\n",
              "    <tr style=\"text-align: right;\">\n",
              "      <th></th>\n",
              "      <th>Accident_ID</th>\n",
              "      <th>Police_Force</th>\n",
              "      <th>Number_of_Vehicles</th>\n",
              "      <th>Number_of_Casualties</th>\n",
              "      <th>Day_of_Week</th>\n",
              "      <th>Local_Authority_(District)</th>\n",
              "      <th>Local_Authority_(Highway)</th>\n",
              "      <th>1st_Road_Class</th>\n",
              "      <th>1st_Road_Number</th>\n",
              "      <th>Road_Type</th>\n",
              "      <th>Speed_limit</th>\n",
              "      <th>2nd_Road_Class</th>\n",
              "      <th>Pedestrian_Crossing-Human_Control</th>\n",
              "      <th>Pedestrian_Crossing-Physical_Facilities</th>\n",
              "      <th>Light_Conditions</th>\n",
              "      <th>Weather_Conditions</th>\n",
              "      <th>Road_Surface_Conditions</th>\n",
              "      <th>Special_Conditions_at_Site</th>\n",
              "      <th>Carriageway_Hazards</th>\n",
              "      <th>Urban_or_Rural_Area</th>\n",
              "      <th>Did_Police_Officer_Attend_Scene_of_Accident</th>\n",
              "      <th>state</th>\n",
              "      <th>postcode</th>\n",
              "      <th>day_in_month</th>\n",
              "      <th>month_in_year</th>\n",
              "      <th>time of the day</th>\n",
              "    </tr>\n",
              "  </thead>\n",
              "  <tbody>\n",
              "    <tr>\n",
              "      <th>0</th>\n",
              "      <td>1</td>\n",
              "      <td>34</td>\n",
              "      <td>2</td>\n",
              "      <td>1</td>\n",
              "      <td>7</td>\n",
              "      <td>344</td>\n",
              "      <td>E10000032</td>\n",
              "      <td>4</td>\n",
              "      <td>395</td>\n",
              "      <td>Single carriageway</td>\n",
              "      <td>30</td>\n",
              "      <td>-1</td>\n",
              "      <td>None within 50 metres</td>\n",
              "      <td>No physical crossing within 50 meters</td>\n",
              "      <td>Daylight: Street light present</td>\n",
              "      <td>Fine without high winds</td>\n",
              "      <td>Dry</td>\n",
              "      <td>Ol or diesel</td>\n",
              "      <td>None</td>\n",
              "      <td>1</td>\n",
              "      <td>Yes</td>\n",
              "      <td>England</td>\n",
              "      <td>OX3 9UP</td>\n",
              "      <td>19</td>\n",
              "      <td>12</td>\n",
              "      <td>13</td>\n",
              "    </tr>\n",
              "    <tr>\n",
              "      <th>1</th>\n",
              "      <td>2</td>\n",
              "      <td>5</td>\n",
              "      <td>2</td>\n",
              "      <td>1</td>\n",
              "      <td>4</td>\n",
              "      <td>102</td>\n",
              "      <td>E09000026</td>\n",
              "      <td>3</td>\n",
              "      <td>13</td>\n",
              "      <td>One way street</td>\n",
              "      <td>30</td>\n",
              "      <td>-1</td>\n",
              "      <td>None within 50 metres</td>\n",
              "      <td>No physical crossing within 50 meters</td>\n",
              "      <td>Daylight: Street light present</td>\n",
              "      <td>Raining without high winds</td>\n",
              "      <td>Dry</td>\n",
              "      <td>None</td>\n",
              "      <td>None</td>\n",
              "      <td>1</td>\n",
              "      <td>No</td>\n",
              "      <td>England</td>\n",
              "      <td>S35 4EZ</td>\n",
              "      <td>2</td>\n",
              "      <td>11</td>\n",
              "      <td>8</td>\n",
              "    </tr>\n",
              "    <tr>\n",
              "      <th>2</th>\n",
              "      <td>3</td>\n",
              "      <td>1</td>\n",
              "      <td>2</td>\n",
              "      <td>1</td>\n",
              "      <td>4</td>\n",
              "      <td>531</td>\n",
              "      <td>E10000016</td>\n",
              "      <td>6</td>\n",
              "      <td>8</td>\n",
              "      <td>Roundabout</td>\n",
              "      <td>40</td>\n",
              "      <td>6</td>\n",
              "      <td>None within 50 metres</td>\n",
              "      <td>Zebra crossing</td>\n",
              "      <td>Daylight: Street light present</td>\n",
              "      <td>Fine without high winds</td>\n",
              "      <td>Dry</td>\n",
              "      <td>None</td>\n",
              "      <td>None</td>\n",
              "      <td>1</td>\n",
              "      <td>No</td>\n",
              "      <td>England</td>\n",
              "      <td>BN21 2XR</td>\n",
              "      <td>2</td>\n",
              "      <td>11</td>\n",
              "      <td>16</td>\n",
              "    </tr>\n",
              "    <tr>\n",
              "      <th>3</th>\n",
              "      <td>4</td>\n",
              "      <td>1</td>\n",
              "      <td>1</td>\n",
              "      <td>1</td>\n",
              "      <td>1</td>\n",
              "      <td>7</td>\n",
              "      <td>E08000035</td>\n",
              "      <td>6</td>\n",
              "      <td>13</td>\n",
              "      <td>Single carriageway</td>\n",
              "      <td>30</td>\n",
              "      <td>6</td>\n",
              "      <td>None within 50 metres</td>\n",
              "      <td>No physical crossing within 50 meters</td>\n",
              "      <td>Daylight: Street light present</td>\n",
              "      <td>Fine without high winds</td>\n",
              "      <td>Dry</td>\n",
              "      <td>Roadworks</td>\n",
              "      <td>None</td>\n",
              "      <td>1</td>\n",
              "      <td>Yes</td>\n",
              "      <td>England</td>\n",
              "      <td>TA20 3PT</td>\n",
              "      <td>6</td>\n",
              "      <td>5</td>\n",
              "      <td>17</td>\n",
              "    </tr>\n",
              "    <tr>\n",
              "      <th>4</th>\n",
              "      <td>5</td>\n",
              "      <td>46</td>\n",
              "      <td>1</td>\n",
              "      <td>1</td>\n",
              "      <td>3</td>\n",
              "      <td>519</td>\n",
              "      <td>E10000031</td>\n",
              "      <td>3</td>\n",
              "      <td>24</td>\n",
              "      <td>Dual carriageway</td>\n",
              "      <td>30</td>\n",
              "      <td>6</td>\n",
              "      <td>None within 50 metres</td>\n",
              "      <td>Zebra crossing</td>\n",
              "      <td>Daylight: Street light present</td>\n",
              "      <td>Fine without high winds</td>\n",
              "      <td>Dry</td>\n",
              "      <td>None</td>\n",
              "      <td>None</td>\n",
              "      <td>1</td>\n",
              "      <td>No</td>\n",
              "      <td>England</td>\n",
              "      <td>DN20 0QF</td>\n",
              "      <td>30</td>\n",
              "      <td>6</td>\n",
              "      <td>13</td>\n",
              "    </tr>\n",
              "  </tbody>\n",
              "</table>\n",
              "</div>\n",
              "      <button class=\"colab-df-convert\" onclick=\"convertToInteractive('df-073212c0-7f2d-4336-a7e7-4ec53414c723')\"\n",
              "              title=\"Convert this dataframe to an interactive table.\"\n",
              "              style=\"display:none;\">\n",
              "        \n",
              "  <svg xmlns=\"http://www.w3.org/2000/svg\" height=\"24px\"viewBox=\"0 0 24 24\"\n",
              "       width=\"24px\">\n",
              "    <path d=\"M0 0h24v24H0V0z\" fill=\"none\"/>\n",
              "    <path d=\"M18.56 5.44l.94 2.06.94-2.06 2.06-.94-2.06-.94-.94-2.06-.94 2.06-2.06.94zm-11 1L8.5 8.5l.94-2.06 2.06-.94-2.06-.94L8.5 2.5l-.94 2.06-2.06.94zm10 10l.94 2.06.94-2.06 2.06-.94-2.06-.94-.94-2.06-.94 2.06-2.06.94z\"/><path d=\"M17.41 7.96l-1.37-1.37c-.4-.4-.92-.59-1.43-.59-.52 0-1.04.2-1.43.59L10.3 9.45l-7.72 7.72c-.78.78-.78 2.05 0 2.83L4 21.41c.39.39.9.59 1.41.59.51 0 1.02-.2 1.41-.59l7.78-7.78 2.81-2.81c.8-.78.8-2.07 0-2.86zM5.41 20L4 18.59l7.72-7.72 1.47 1.35L5.41 20z\"/>\n",
              "  </svg>\n",
              "      </button>\n",
              "      \n",
              "  <style>\n",
              "    .colab-df-container {\n",
              "      display:flex;\n",
              "      flex-wrap:wrap;\n",
              "      gap: 12px;\n",
              "    }\n",
              "\n",
              "    .colab-df-convert {\n",
              "      background-color: #E8F0FE;\n",
              "      border: none;\n",
              "      border-radius: 50%;\n",
              "      cursor: pointer;\n",
              "      display: none;\n",
              "      fill: #1967D2;\n",
              "      height: 32px;\n",
              "      padding: 0 0 0 0;\n",
              "      width: 32px;\n",
              "    }\n",
              "\n",
              "    .colab-df-convert:hover {\n",
              "      background-color: #E2EBFA;\n",
              "      box-shadow: 0px 1px 2px rgba(60, 64, 67, 0.3), 0px 1px 3px 1px rgba(60, 64, 67, 0.15);\n",
              "      fill: #174EA6;\n",
              "    }\n",
              "\n",
              "    [theme=dark] .colab-df-convert {\n",
              "      background-color: #3B4455;\n",
              "      fill: #D2E3FC;\n",
              "    }\n",
              "\n",
              "    [theme=dark] .colab-df-convert:hover {\n",
              "      background-color: #434B5C;\n",
              "      box-shadow: 0px 1px 3px 1px rgba(0, 0, 0, 0.15);\n",
              "      filter: drop-shadow(0px 1px 2px rgba(0, 0, 0, 0.3));\n",
              "      fill: #FFFFFF;\n",
              "    }\n",
              "  </style>\n",
              "\n",
              "      <script>\n",
              "        const buttonEl =\n",
              "          document.querySelector('#df-073212c0-7f2d-4336-a7e7-4ec53414c723 button.colab-df-convert');\n",
              "        buttonEl.style.display =\n",
              "          google.colab.kernel.accessAllowed ? 'block' : 'none';\n",
              "\n",
              "        async function convertToInteractive(key) {\n",
              "          const element = document.querySelector('#df-073212c0-7f2d-4336-a7e7-4ec53414c723');\n",
              "          const dataTable =\n",
              "            await google.colab.kernel.invokeFunction('convertToInteractive',\n",
              "                                                     [key], {});\n",
              "          if (!dataTable) return;\n",
              "\n",
              "          const docLinkHtml = 'Like what you see? Visit the ' +\n",
              "            '<a target=\"_blank\" href=https://colab.research.google.com/notebooks/data_table.ipynb>data table notebook</a>'\n",
              "            + ' to learn more about interactive tables.';\n",
              "          element.innerHTML = '';\n",
              "          dataTable['output_type'] = 'display_data';\n",
              "          await google.colab.output.renderOutput(dataTable, element);\n",
              "          const docLink = document.createElement('div');\n",
              "          docLink.innerHTML = docLinkHtml;\n",
              "          element.appendChild(docLink);\n",
              "        }\n",
              "      </script>\n",
              "    </div>\n",
              "  </div>\n",
              "  "
            ],
            "text/plain": [
              "   Accident_ID  Police_Force  Number_of_Vehicles  Number_of_Casualties  \\\n",
              "0            1            34                   2                     1   \n",
              "1            2             5                   2                     1   \n",
              "2            3             1                   2                     1   \n",
              "3            4             1                   1                     1   \n",
              "4            5            46                   1                     1   \n",
              "\n",
              "   Day_of_Week  Local_Authority_(District) Local_Authority_(Highway)  \\\n",
              "0            7                         344                 E10000032   \n",
              "1            4                         102                 E09000026   \n",
              "2            4                         531                 E10000016   \n",
              "3            1                           7                 E08000035   \n",
              "4            3                         519                 E10000031   \n",
              "\n",
              "   1st_Road_Class  1st_Road_Number           Road_Type  Speed_limit  \\\n",
              "0               4              395  Single carriageway           30   \n",
              "1               3               13      One way street           30   \n",
              "2               6                8          Roundabout           40   \n",
              "3               6               13  Single carriageway           30   \n",
              "4               3               24    Dual carriageway           30   \n",
              "\n",
              "   2nd_Road_Class Pedestrian_Crossing-Human_Control  \\\n",
              "0              -1             None within 50 metres   \n",
              "1              -1             None within 50 metres   \n",
              "2               6             None within 50 metres   \n",
              "3               6             None within 50 metres   \n",
              "4               6             None within 50 metres   \n",
              "\n",
              "  Pedestrian_Crossing-Physical_Facilities                Light_Conditions  \\\n",
              "0   No physical crossing within 50 meters  Daylight: Street light present   \n",
              "1   No physical crossing within 50 meters  Daylight: Street light present   \n",
              "2                          Zebra crossing  Daylight: Street light present   \n",
              "3   No physical crossing within 50 meters  Daylight: Street light present   \n",
              "4                          Zebra crossing  Daylight: Street light present   \n",
              "\n",
              "           Weather_Conditions Road_Surface_Conditions  \\\n",
              "0     Fine without high winds                     Dry   \n",
              "1  Raining without high winds                     Dry   \n",
              "2     Fine without high winds                     Dry   \n",
              "3     Fine without high winds                     Dry   \n",
              "4     Fine without high winds                     Dry   \n",
              "\n",
              "  Special_Conditions_at_Site Carriageway_Hazards  Urban_or_Rural_Area  \\\n",
              "0               Ol or diesel                None                    1   \n",
              "1                       None                None                    1   \n",
              "2                       None                None                    1   \n",
              "3                  Roadworks                None                    1   \n",
              "4                       None                None                    1   \n",
              "\n",
              "  Did_Police_Officer_Attend_Scene_of_Accident    state  postcode  \\\n",
              "0                                         Yes  England   OX3 9UP   \n",
              "1                                          No  England   S35 4EZ   \n",
              "2                                          No  England  BN21 2XR   \n",
              "3                                         Yes  England  TA20 3PT   \n",
              "4                                          No  England  DN20 0QF   \n",
              "\n",
              "   day_in_month  month_in_year  time of the day  \n",
              "0            19             12               13  \n",
              "1             2             11                8  \n",
              "2             2             11               16  \n",
              "3             6              5               17  \n",
              "4            30              6               13  "
            ]
          },
          "execution_count": 17,
          "metadata": {},
          "output_type": "execute_result"
        }
      ],
      "source": [
        "train.head()"
      ]
    },
    {
      "cell_type": "code",
      "execution_count": null,
      "metadata": {
        "colab": {
          "base_uri": "https://localhost:8080/"
        },
        "id": "9fmvEvhjGXWU",
        "outputId": "4eda3c47-256a-451a-bd05-1b85e5c54f46"
      },
      "outputs": [
        {
          "data": {
            "text/plain": [
              "Accident_ID                                     int64\n",
              "Police_Force                                    int64\n",
              "Number_of_Vehicles                              int64\n",
              "Number_of_Casualties                            int64\n",
              "Day_of_Week                                     int64\n",
              "Local_Authority_(District)                      int64\n",
              "Local_Authority_(Highway)                      object\n",
              "1st_Road_Class                                  int64\n",
              "1st_Road_Number                                 int64\n",
              "Road_Type                                      object\n",
              "Speed_limit                                     int64\n",
              "2nd_Road_Class                                  int64\n",
              "Pedestrian_Crossing-Human_Control              object\n",
              "Pedestrian_Crossing-Physical_Facilities        object\n",
              "Light_Conditions                               object\n",
              "Weather_Conditions                             object\n",
              "Road_Surface_Conditions                        object\n",
              "Special_Conditions_at_Site                     object\n",
              "Carriageway_Hazards                            object\n",
              "Urban_or_Rural_Area                             int64\n",
              "Did_Police_Officer_Attend_Scene_of_Accident    object\n",
              "state                                          object\n",
              "postcode                                       object\n",
              "day_in_month                                    int64\n",
              "month_in_year                                   int64\n",
              "time of the day                                 int64\n",
              "dtype: object"
            ]
          },
          "execution_count": 18,
          "metadata": {},
          "output_type": "execute_result"
        }
      ],
      "source": [
        "train.dtypes"
      ]
    },
    {
      "cell_type": "markdown",
      "metadata": {
        "id": "Jc4rj9bsBWDZ"
      },
      "source": [
        "Now we will split the dataset into two parts, 1st will have the object type columns and 2nd one is numeric type"
      ]
    },
    {
      "cell_type": "code",
      "execution_count": null,
      "metadata": {
        "colab": {
          "base_uri": "https://localhost:8080/"
        },
        "id": "txwmErCeAPo4",
        "outputId": "5441d240-16f2-449c-c7d8-9dd4b4f0b80c"
      },
      "outputs": [
        {
          "data": {
            "text/plain": [
              "['Local_Authority_(Highway)',\n",
              " 'Road_Type',\n",
              " 'Pedestrian_Crossing-Human_Control',\n",
              " 'Pedestrian_Crossing-Physical_Facilities',\n",
              " 'Light_Conditions',\n",
              " 'Weather_Conditions',\n",
              " 'Road_Surface_Conditions',\n",
              " 'Special_Conditions_at_Site',\n",
              " 'Carriageway_Hazards',\n",
              " 'Did_Police_Officer_Attend_Scene_of_Accident',\n",
              " 'state',\n",
              " 'postcode']"
            ]
          },
          "execution_count": 19,
          "metadata": {},
          "output_type": "execute_result"
        }
      ],
      "source": [
        "object_cols=list(train.columns[train.dtypes==\"object\"])\n",
        "object_cols"
      ]
    },
    {
      "cell_type": "code",
      "execution_count": null,
      "metadata": {
        "colab": {
          "base_uri": "https://localhost:8080/"
        },
        "id": "BGc98j_KC1aF",
        "outputId": "5a3bf180-a54e-493f-a63f-e88af9d57059"
      },
      "outputs": [
        {
          "data": {
            "text/plain": [
              "['Accident_ID',\n",
              " 'Police_Force',\n",
              " 'Number_of_Vehicles',\n",
              " 'Number_of_Casualties',\n",
              " 'Day_of_Week',\n",
              " 'Local_Authority_(District)',\n",
              " '1st_Road_Class',\n",
              " '1st_Road_Number',\n",
              " 'Speed_limit',\n",
              " '2nd_Road_Class',\n",
              " 'Urban_or_Rural_Area',\n",
              " 'day_in_month',\n",
              " 'month_in_year',\n",
              " 'time of the day']"
            ]
          },
          "execution_count": 20,
          "metadata": {},
          "output_type": "execute_result"
        }
      ],
      "source": [
        "numeric_cols=list(train.columns[train.dtypes==\"int64\"])\n",
        "numeric_cols"
      ]
    },
    {
      "cell_type": "code",
      "execution_count": null,
      "metadata": {
        "id": "ZODCpmcGHJYU"
      },
      "outputs": [],
      "source": [
        "df_object=train.loc[:,object_cols]\n",
        "df_numeric=train.loc[:,numeric_cols]"
      ]
    },
    {
      "cell_type": "code",
      "execution_count": null,
      "metadata": {
        "colab": {
          "base_uri": "https://localhost:8080/",
          "height": 376
        },
        "id": "NLLmlimAGk0J",
        "outputId": "dc6ec2fb-387c-4a58-9122-73d4e3e58ae2"
      },
      "outputs": [
        {
          "data": {
            "text/plain": [
              "<matplotlib.axes._subplots.AxesSubplot at 0x7fe6b4424490>"
            ]
          },
          "execution_count": 22,
          "metadata": {},
          "output_type": "execute_result"
        },
        {
          "data": {
            "image/png": "[encoded data removed]",
            "text/plain": [
              "<Figure size 1800x360 with 1 Axes>"
            ]
          },
          "metadata": {},
          "output_type": "display_data"
        }
      ],
      "source": [
        "plt.figure(figsize=(25,5))\n",
        "df_numeric.groupby([\"month_in_year\",\"Day_of_Week\"]).Number_of_Casualties.sum().plot.bar()\n"
      ]
    },
    {
      "cell_type": "markdown",
      "metadata": {
        "id": "9csnRZiCugo4"
      },
      "source": [
        "Day 3 in month 1 , Day 3 in month 12 have very different number of accidents, so i am thinking to change the values of week days according to month values\n"
      ]
    },
    {
      "cell_type": "code",
      "execution_count": null,
      "metadata": {
        "colab": {
          "base_uri": "https://localhost:8080/"
        },
        "id": "ZPUFhSYIuwGd",
        "outputId": "d451591d-b506-4640-a77b-f38d507f3f08"
      },
      "outputs": [
        {
          "data": {
            "text/plain": [
              "month_in_year  Day_of_Week\n",
              "1              1               3316\n",
              "               2               6990\n",
              "               3              11416\n",
              "               4               5389\n",
              "               5               9134\n",
              "                              ...  \n",
              "12             3               5110\n",
              "               4               2486\n",
              "               5               3842\n",
              "               6               5204\n",
              "               7               4131\n",
              "Name: Accident_ID, Length: 84, dtype: int64"
            ]
          },
          "execution_count": 23,
          "metadata": {},
          "output_type": "execute_result"
        }
      ],
      "source": [
        "a=df_numeric.groupby([\"month_in_year\",\"Day_of_Week\"]).Accident_ID.count()\n",
        "a"
      ]
    },
    {
      "cell_type": "code",
      "execution_count": null,
      "metadata": {
        "id": "c8sAS4EVujwR"
      },
      "outputs": [],
      "source": [
        "def change_week_values(row):\n",
        "  return a[row.loc[\"month_in_year\"],row.loc[\"Day_of_Week\"]]\n",
        "df_numeric.loc[:,\"changed_week_days\"]=df_numeric.apply(change_week_values,axis=1)"
      ]
    },
    {
      "cell_type": "code",
      "execution_count": null,
      "metadata": {
        "id": "qufMmRoaygJi"
      },
      "outputs": [],
      "source": [
        "df_numeric.loc[:,\"changed_week_days\"]=(df_numeric.loc[:,\"changed_week_days\"]-df_numeric.loc[:,\"changed_week_days\"].mean())/df_numeric.loc[:,\"changed_week_days\"].std()"
      ]
    },
    {
      "cell_type": "code",
      "execution_count": null,
      "metadata": {
        "colab": {
          "base_uri": "https://localhost:8080/",
          "height": 322
        },
        "id": "jPdxnTu1C4Vz",
        "outputId": "621def07-1346-4bc1-965e-f80758c81623"
      },
      "outputs": [
        {
          "data": {
            "text/html": [
              "\n",
              "  <div id=\"df-4cfab60b-6fa6-4806-96bf-5c7d90de06a7\">\n",
              "    <div class=\"colab-df-container\">\n",
              "      <div>\n",
              "<style scoped>\n",
              "    .dataframe tbody tr th:only-of-type {\n",
              "        vertical-align: middle;\n",
              "    }\n",
              "\n",
              "    .dataframe tbody tr th {\n",
              "        vertical-align: top;\n",
              "    }\n",
              "\n",
              "    .dataframe thead th {\n",
              "        text-align: right;\n",
              "    }\n",
              "</style>\n",
              "<table border=\"1\" class=\"dataframe\">\n",
              "  <thead>\n",
              "    <tr style=\"text-align: right;\">\n",
              "      <th></th>\n",
              "      <th>Accident_ID</th>\n",
              "      <th>Police_Force</th>\n",
              "      <th>Number_of_Vehicles</th>\n",
              "      <th>Number_of_Casualties</th>\n",
              "      <th>Day_of_Week</th>\n",
              "      <th>Local_Authority_(District)</th>\n",
              "      <th>1st_Road_Class</th>\n",
              "      <th>1st_Road_Number</th>\n",
              "      <th>Speed_limit</th>\n",
              "      <th>2nd_Road_Class</th>\n",
              "      <th>Urban_or_Rural_Area</th>\n",
              "      <th>day_in_month</th>\n",
              "      <th>month_in_year</th>\n",
              "      <th>time of the day</th>\n",
              "      <th>changed_week_days</th>\n",
              "    </tr>\n",
              "  </thead>\n",
              "  <tbody>\n",
              "    <tr>\n",
              "      <th>0</th>\n",
              "      <td>1</td>\n",
              "      <td>34</td>\n",
              "      <td>2</td>\n",
              "      <td>1</td>\n",
              "      <td>7</td>\n",
              "      <td>344</td>\n",
              "      <td>4</td>\n",
              "      <td>395</td>\n",
              "      <td>30</td>\n",
              "      <td>-1</td>\n",
              "      <td>1</td>\n",
              "      <td>19</td>\n",
              "      <td>12</td>\n",
              "      <td>13</td>\n",
              "      <td>-0.957240</td>\n",
              "    </tr>\n",
              "    <tr>\n",
              "      <th>1</th>\n",
              "      <td>2</td>\n",
              "      <td>5</td>\n",
              "      <td>2</td>\n",
              "      <td>1</td>\n",
              "      <td>4</td>\n",
              "      <td>102</td>\n",
              "      <td>3</td>\n",
              "      <td>13</td>\n",
              "      <td>30</td>\n",
              "      <td>-1</td>\n",
              "      <td>1</td>\n",
              "      <td>2</td>\n",
              "      <td>11</td>\n",
              "      <td>8</td>\n",
              "      <td>-1.426183</td>\n",
              "    </tr>\n",
              "    <tr>\n",
              "      <th>2</th>\n",
              "      <td>3</td>\n",
              "      <td>1</td>\n",
              "      <td>2</td>\n",
              "      <td>1</td>\n",
              "      <td>4</td>\n",
              "      <td>531</td>\n",
              "      <td>6</td>\n",
              "      <td>8</td>\n",
              "      <td>40</td>\n",
              "      <td>6</td>\n",
              "      <td>1</td>\n",
              "      <td>2</td>\n",
              "      <td>11</td>\n",
              "      <td>16</td>\n",
              "      <td>-1.426183</td>\n",
              "    </tr>\n",
              "    <tr>\n",
              "      <th>3</th>\n",
              "      <td>4</td>\n",
              "      <td>1</td>\n",
              "      <td>1</td>\n",
              "      <td>1</td>\n",
              "      <td>1</td>\n",
              "      <td>7</td>\n",
              "      <td>6</td>\n",
              "      <td>13</td>\n",
              "      <td>30</td>\n",
              "      <td>6</td>\n",
              "      <td>1</td>\n",
              "      <td>6</td>\n",
              "      <td>5</td>\n",
              "      <td>17</td>\n",
              "      <td>-1.484178</td>\n",
              "    </tr>\n",
              "    <tr>\n",
              "      <th>4</th>\n",
              "      <td>5</td>\n",
              "      <td>46</td>\n",
              "      <td>1</td>\n",
              "      <td>1</td>\n",
              "      <td>3</td>\n",
              "      <td>519</td>\n",
              "      <td>3</td>\n",
              "      <td>24</td>\n",
              "      <td>30</td>\n",
              "      <td>6</td>\n",
              "      <td>1</td>\n",
              "      <td>30</td>\n",
              "      <td>6</td>\n",
              "      <td>13</td>\n",
              "      <td>0.116917</td>\n",
              "    </tr>\n",
              "  </tbody>\n",
              "</table>\n",
              "</div>\n",
              "      <button class=\"colab-df-convert\" onclick=\"convertToInteractive('df-4cfab60b-6fa6-4806-96bf-5c7d90de06a7')\"\n",
              "              title=\"Convert this dataframe to an interactive table.\"\n",
              "              style=\"display:none;\">\n",
              "        \n",
              "  <svg xmlns=\"http://www.w3.org/2000/svg\" height=\"24px\"viewBox=\"0 0 24 24\"\n",
              "       width=\"24px\">\n",
              "    <path d=\"M0 0h24v24H0V0z\" fill=\"none\"/>\n",
              "    <path d=\"M18.56 5.44l.94 2.06.94-2.06 2.06-.94-2.06-.94-.94-2.06-.94 2.06-2.06.94zm-11 1L8.5 8.5l.94-2.06 2.06-.94-2.06-.94L8.5 2.5l-.94 2.06-2.06.94zm10 10l.94 2.06.94-2.06 2.06-.94-2.06-.94-.94-2.06-.94 2.06-2.06.94z\"/><path d=\"M17.41 7.96l-1.37-1.37c-.4-.4-.92-.59-1.43-.59-.52 0-1.04.2-1.43.59L10.3 9.45l-7.72 7.72c-.78.78-.78 2.05 0 2.83L4 21.41c.39.39.9.59 1.41.59.51 0 1.02-.2 1.41-.59l7.78-7.78 2.81-2.81c.8-.78.8-2.07 0-2.86zM5.41 20L4 18.59l7.72-7.72 1.47 1.35L5.41 20z\"/>\n",
              "  </svg>\n",
              "      </button>\n",
              "      \n",
              "  <style>\n",
              "    .colab-df-container {\n",
              "      display:flex;\n",
              "      flex-wrap:wrap;\n",
              "      gap: 12px;\n",
              "    }\n",
              "\n",
              "    .colab-df-convert {\n",
              "      background-color: #E8F0FE;\n",
              "      border: none;\n",
              "      border-radius: 50%;\n",
              "      cursor: pointer;\n",
              "      display: none;\n",
              "      fill: #1967D2;\n",
              "      height: 32px;\n",
              "      padding: 0 0 0 0;\n",
              "      width: 32px;\n",
              "    }\n",
              "\n",
              "    .colab-df-convert:hover {\n",
              "      background-color: #E2EBFA;\n",
              "      box-shadow: 0px 1px 2px rgba(60, 64, 67, 0.3), 0px 1px 3px 1px rgba(60, 64, 67, 0.15);\n",
              "      fill: #174EA6;\n",
              "    }\n",
              "\n",
              "    [theme=dark] .colab-df-convert {\n",
              "      background-color: #3B4455;\n",
              "      fill: #D2E3FC;\n",
              "    }\n",
              "\n",
              "    [theme=dark] .colab-df-convert:hover {\n",
              "      background-color: #434B5C;\n",
              "      box-shadow: 0px 1px 3px 1px rgba(0, 0, 0, 0.15);\n",
              "      filter: drop-shadow(0px 1px 2px rgba(0, 0, 0, 0.3));\n",
              "      fill: #FFFFFF;\n",
              "    }\n",
              "  </style>\n",
              "\n",
              "      <script>\n",
              "        const buttonEl =\n",
              "          document.querySelector('#df-4cfab60b-6fa6-4806-96bf-5c7d90de06a7 button.colab-df-convert');\n",
              "        buttonEl.style.display =\n",
              "          google.colab.kernel.accessAllowed ? 'block' : 'none';\n",
              "\n",
              "        async function convertToInteractive(key) {\n",
              "          const element = document.querySelector('#df-4cfab60b-6fa6-4806-96bf-5c7d90de06a7');\n",
              "          const dataTable =\n",
              "            await google.colab.kernel.invokeFunction('convertToInteractive',\n",
              "                                                     [key], {});\n",
              "          if (!dataTable) return;\n",
              "\n",
              "          const docLinkHtml = 'Like what you see? Visit the ' +\n",
              "            '<a target=\"_blank\" href=https://colab.research.google.com/notebooks/data_table.ipynb>data table notebook</a>'\n",
              "            + ' to learn more about interactive tables.';\n",
              "          element.innerHTML = '';\n",
              "          dataTable['output_type'] = 'display_data';\n",
              "          await google.colab.output.renderOutput(dataTable, element);\n",
              "          const docLink = document.createElement('div');\n",
              "          docLink.innerHTML = docLinkHtml;\n",
              "          element.appendChild(docLink);\n",
              "        }\n",
              "      </script>\n",
              "    </div>\n",
              "  </div>\n",
              "  "
            ],
            "text/plain": [
              "   Accident_ID  Police_Force  Number_of_Vehicles  Number_of_Casualties  \\\n",
              "0            1            34                   2                     1   \n",
              "1            2             5                   2                     1   \n",
              "2            3             1                   2                     1   \n",
              "3            4             1                   1                     1   \n",
              "4            5            46                   1                     1   \n",
              "\n",
              "   Day_of_Week  Local_Authority_(District)  1st_Road_Class  1st_Road_Number  \\\n",
              "0            7                         344               4              395   \n",
              "1            4                         102               3               13   \n",
              "2            4                         531               6                8   \n",
              "3            1                           7               6               13   \n",
              "4            3                         519               3               24   \n",
              "\n",
              "   Speed_limit  2nd_Road_Class  Urban_or_Rural_Area  day_in_month  \\\n",
              "0           30              -1                    1            19   \n",
              "1           30              -1                    1             2   \n",
              "2           40               6                    1             2   \n",
              "3           30               6                    1             6   \n",
              "4           30               6                    1            30   \n",
              "\n",
              "   month_in_year  time of the day  changed_week_days  \n",
              "0             12               13          -0.957240  \n",
              "1             11                8          -1.426183  \n",
              "2             11               16          -1.426183  \n",
              "3              5               17          -1.484178  \n",
              "4              6               13           0.116917  "
            ]
          },
          "execution_count": 26,
          "metadata": {},
          "output_type": "execute_result"
        }
      ],
      "source": [
        "df_numeric.head()"
      ]
    },
    {
      "cell_type": "code",
      "execution_count": null,
      "metadata": {
        "colab": {
          "base_uri": "https://localhost:8080/"
        },
        "id": "Ww5qPw2BCUD7",
        "outputId": "12224368-ac70-4163-b8fe-95cbeda105ff"
      },
      "outputs": [
        {
          "data": {
            "text/plain": [
              "0        -0.957240\n",
              "1        -1.426183\n",
              "2        -1.426183\n",
              "3        -1.484178\n",
              "4         0.116917\n",
              "            ...   \n",
              "478736    0.253544\n",
              "478737   -0.509645\n",
              "478738    0.911060\n",
              "478739   -1.091376\n",
              "478740    0.601871\n",
              "Name: changed_week_days, Length: 478212, dtype: float64"
            ]
          },
          "execution_count": 27,
          "metadata": {},
          "output_type": "execute_result"
        }
      ],
      "source": [
        "df_numeric.loc[:,\"changed_week_days\"]"
      ]
    },
    {
      "cell_type": "code",
      "execution_count": null,
      "metadata": {
        "colab": {
          "base_uri": "https://localhost:8080/"
        },
        "id": "nnAaTUo2zwIv",
        "outputId": "c120a2a8-1b31-41e9-a840-9c3daecb94dc"
      },
      "outputs": [
        {
          "data": {
            "text/plain": [
              "0        -0.957240\n",
              "1        -1.426183\n",
              "2        -1.426183\n",
              "3        -1.484178\n",
              "4         0.116917\n",
              "            ...   \n",
              "478736    0.253544\n",
              "478737   -0.509645\n",
              "478738    0.911060\n",
              "478739   -1.091376\n",
              "478740    0.601871\n",
              "Name: changed_week_days, Length: 478212, dtype: float64"
            ]
          },
          "execution_count": 28,
          "metadata": {},
          "output_type": "execute_result"
        }
      ],
      "source": [
        "df_numeric.changed_week_days"
      ]
    },
    {
      "cell_type": "code",
      "execution_count": null,
      "metadata": {
        "colab": {
          "base_uri": "https://localhost:8080/",
          "height": 355
        },
        "id": "9e_lu3ePHHZg",
        "outputId": "80a04c11-b557-480c-813e-509fda78f444"
      },
      "outputs": [
        {
          "data": {
            "text/plain": [
              "<matplotlib.axes._subplots.AxesSubplot at 0x7fe6b3c76890>"
            ]
          },
          "execution_count": 29,
          "metadata": {},
          "output_type": "execute_result"
        },
        {
          "data": {
            "image/png": "[encoded data removed]",
            "text/plain": [
              "<Figure size 1440x360 with 1 Axes>"
            ]
          },
          "metadata": {},
          "output_type": "display_data"
        }
      ],
      "source": [
        "plt.figure(figsize=(20,5))\n",
        "df_numeric.groupby([\"time of the day\"]).Number_of_Casualties.sum().plot.bar()"
      ]
    },
    {
      "cell_type": "code",
      "execution_count": null,
      "metadata": {
        "id": "UHZgnHcRHjT4"
      },
      "outputs": [],
      "source": [
        "\n",
        "\n",
        "def classify_the_time(row):\n",
        "  if row[\"time of the day\"]>=0 and row[\"time of the day\"]<8:\n",
        "    return 1 \n",
        "  elif row[\"time of the day\"]>=8 and row[\"time of the day\"]<20:\n",
        "    return 2\n",
        "  else:\n",
        "    return 3\n",
        "\n",
        "df_numeric.loc[:,\"time of the day\"]=df_numeric.apply(classify_the_time,axis=1)"
      ]
    },
    {
      "cell_type": "code",
      "execution_count": null,
      "metadata": {
        "id": "CuBdxazFHxYe"
      },
      "outputs": [],
      "source": [
        "cols1=['Number_of_Vehicles','1st_Road_Class','Speed_limit', '2nd_Road_Class','Urban_or_Rural_Area','month_in_year']\n"
      ]
    },
    {
      "cell_type": "code",
      "execution_count": null,
      "metadata": {
        "colab": {
          "base_uri": "https://localhost:8080/",
          "height": 881
        },
        "id": "UMlqgjSWH-sa",
        "outputId": "3d34436e-33ca-4161-bf79-7f72b0dbb500"
      },
      "outputs": [
        {
          "data": {
            "image/png": "[encoded data removed]",
            "text/plain": [
              "<Figure size 1800x1080 with 6 Axes>"
            ]
          },
          "metadata": {},
          "output_type": "display_data"
        }
      ],
      "source": [
        "plt.figure(figsize=(25,15))\n",
        "a=0\n",
        "for i in range(1,7):\n",
        "  ax=plt.subplot(2,4,i)\n",
        "  df_numeric.groupby(cols1[a]).Number_of_Casualties.sum().plot.bar()\n",
        "  plt.xlabel(cols1[a])\n",
        "  a=a+1"
      ]
    },
    {
      "cell_type": "code",
      "execution_count": null,
      "metadata": {
        "id": "DYsb1zaDIDSa"
      },
      "outputs": [],
      "source": [
        "df_numeric.drop(\"Accident_ID\",axis=1,inplace=True)"
      ]
    },
    {
      "cell_type": "code",
      "execution_count": null,
      "metadata": {
        "id": "0RAjrTNFIY1c"
      },
      "outputs": [],
      "source": [
        "df_object.drop(\"postcode\",axis=1,inplace=True)"
      ]
    },
    {
      "cell_type": "code",
      "execution_count": null,
      "metadata": {
        "id": "vBBjChXQIxDr"
      },
      "outputs": [],
      "source": [
        "from sklearn.preprocessing import OrdinalEncoder\n",
        "ord=OrdinalEncoder()\n",
        "df_object[df_object.columns]=ord.fit_transform(df_object[df_object.columns])"
      ]
    },
    {
      "cell_type": "code",
      "execution_count": null,
      "metadata": {
        "colab": {
          "base_uri": "https://localhost:8080/",
          "height": 288
        },
        "id": "2UHCXN-2I3zC",
        "outputId": "571aa4e2-1e31-4cb4-d23a-99f3977785fd"
      },
      "outputs": [
        {
          "data": {
            "text/html": [
              "\n",
              "  <div id=\"df-176baa07-b94b-4444-a961-3fd10043ac6b\">\n",
              "    <div class=\"colab-df-container\">\n",
              "      <div>\n",
              "<style scoped>\n",
              "    .dataframe tbody tr th:only-of-type {\n",
              "        vertical-align: middle;\n",
              "    }\n",
              "\n",
              "    .dataframe tbody tr th {\n",
              "        vertical-align: top;\n",
              "    }\n",
              "\n",
              "    .dataframe thead th {\n",
              "        text-align: right;\n",
              "    }\n",
              "</style>\n",
              "<table border=\"1\" class=\"dataframe\">\n",
              "  <thead>\n",
              "    <tr style=\"text-align: right;\">\n",
              "      <th></th>\n",
              "      <th>Local_Authority_(Highway)</th>\n",
              "      <th>Road_Type</th>\n",
              "      <th>Pedestrian_Crossing-Human_Control</th>\n",
              "      <th>Pedestrian_Crossing-Physical_Facilities</th>\n",
              "      <th>Light_Conditions</th>\n",
              "      <th>Weather_Conditions</th>\n",
              "      <th>Road_Surface_Conditions</th>\n",
              "      <th>Special_Conditions_at_Site</th>\n",
              "      <th>Carriageway_Hazards</th>\n",
              "      <th>Did_Police_Officer_Attend_Scene_of_Accident</th>\n",
              "      <th>state</th>\n",
              "    </tr>\n",
              "  </thead>\n",
              "  <tbody>\n",
              "    <tr>\n",
              "      <th>0</th>\n",
              "      <td>150.0</td>\n",
              "      <td>3.0</td>\n",
              "      <td>2.0</td>\n",
              "      <td>2.0</td>\n",
              "      <td>4.0</td>\n",
              "      <td>1.0</td>\n",
              "      <td>0.0</td>\n",
              "      <td>4.0</td>\n",
              "      <td>3.0</td>\n",
              "      <td>1.0</td>\n",
              "      <td>2.0</td>\n",
              "    </tr>\n",
              "    <tr>\n",
              "      <th>1</th>\n",
              "      <td>117.0</td>\n",
              "      <td>1.0</td>\n",
              "      <td>2.0</td>\n",
              "      <td>2.0</td>\n",
              "      <td>4.0</td>\n",
              "      <td>5.0</td>\n",
              "      <td>0.0</td>\n",
              "      <td>3.0</td>\n",
              "      <td>3.0</td>\n",
              "      <td>0.0</td>\n",
              "      <td>2.0</td>\n",
              "    </tr>\n",
              "    <tr>\n",
              "      <th>2</th>\n",
              "      <td>136.0</td>\n",
              "      <td>2.0</td>\n",
              "      <td>2.0</td>\n",
              "      <td>4.0</td>\n",
              "      <td>4.0</td>\n",
              "      <td>1.0</td>\n",
              "      <td>0.0</td>\n",
              "      <td>3.0</td>\n",
              "      <td>3.0</td>\n",
              "      <td>0.0</td>\n",
              "      <td>2.0</td>\n",
              "    </tr>\n",
              "    <tr>\n",
              "      <th>3</th>\n",
              "      <td>90.0</td>\n",
              "      <td>3.0</td>\n",
              "      <td>2.0</td>\n",
              "      <td>2.0</td>\n",
              "      <td>4.0</td>\n",
              "      <td>1.0</td>\n",
              "      <td>0.0</td>\n",
              "      <td>7.0</td>\n",
              "      <td>3.0</td>\n",
              "      <td>1.0</td>\n",
              "      <td>2.0</td>\n",
              "    </tr>\n",
              "    <tr>\n",
              "      <th>4</th>\n",
              "      <td>149.0</td>\n",
              "      <td>0.0</td>\n",
              "      <td>2.0</td>\n",
              "      <td>4.0</td>\n",
              "      <td>4.0</td>\n",
              "      <td>1.0</td>\n",
              "      <td>0.0</td>\n",
              "      <td>3.0</td>\n",
              "      <td>3.0</td>\n",
              "      <td>0.0</td>\n",
              "      <td>2.0</td>\n",
              "    </tr>\n",
              "  </tbody>\n",
              "</table>\n",
              "</div>\n",
              "      <button class=\"colab-df-convert\" onclick=\"convertToInteractive('df-176baa07-b94b-4444-a961-3fd10043ac6b')\"\n",
              "              title=\"Convert this dataframe to an interactive table.\"\n",
              "              style=\"display:none;\">\n",
              "        \n",
              "  <svg xmlns=\"http://www.w3.org/2000/svg\" height=\"24px\"viewBox=\"0 0 24 24\"\n",
              "       width=\"24px\">\n",
              "    <path d=\"M0 0h24v24H0V0z\" fill=\"none\"/>\n",
              "    <path d=\"M18.56 5.44l.94 2.06.94-2.06 2.06-.94-2.06-.94-.94-2.06-.94 2.06-2.06.94zm-11 1L8.5 8.5l.94-2.06 2.06-.94-2.06-.94L8.5 2.5l-.94 2.06-2.06.94zm10 10l.94 2.06.94-2.06 2.06-.94-2.06-.94-.94-2.06-.94 2.06-2.06.94z\"/><path d=\"M17.41 7.96l-1.37-1.37c-.4-.4-.92-.59-1.43-.59-.52 0-1.04.2-1.43.59L10.3 9.45l-7.72 7.72c-.78.78-.78 2.05 0 2.83L4 21.41c.39.39.9.59 1.41.59.51 0 1.02-.2 1.41-.59l7.78-7.78 2.81-2.81c.8-.78.8-2.07 0-2.86zM5.41 20L4 18.59l7.72-7.72 1.47 1.35L5.41 20z\"/>\n",
              "  </svg>\n",
              "      </button>\n",
              "      \n",
              "  <style>\n",
              "    .colab-df-container {\n",
              "      display:flex;\n",
              "      flex-wrap:wrap;\n",
              "      gap: 12px;\n",
              "    }\n",
              "\n",
              "    .colab-df-convert {\n",
              "      background-color: #E8F0FE;\n",
              "      border: none;\n",
              "      border-radius: 50%;\n",
              "      cursor: pointer;\n",
              "      display: none;\n",
              "      fill: #1967D2;\n",
              "      height: 32px;\n",
              "      padding: 0 0 0 0;\n",
              "      width: 32px;\n",
              "    }\n",
              "\n",
              "    .colab-df-convert:hover {\n",
              "      background-color: #E2EBFA;\n",
              "      box-shadow: 0px 1px 2px rgba(60, 64, 67, 0.3), 0px 1px 3px 1px rgba(60, 64, 67, 0.15);\n",
              "      fill: #174EA6;\n",
              "    }\n",
              "\n",
              "    [theme=dark] .colab-df-convert {\n",
              "      background-color: #3B4455;\n",
              "      fill: #D2E3FC;\n",
              "    }\n",
              "\n",
              "    [theme=dark] .colab-df-convert:hover {\n",
              "      background-color: #434B5C;\n",
              "      box-shadow: 0px 1px 3px 1px rgba(0, 0, 0, 0.15);\n",
              "      filter: drop-shadow(0px 1px 2px rgba(0, 0, 0, 0.3));\n",
              "      fill: #FFFFFF;\n",
              "    }\n",
              "  </style>\n",
              "\n",
              "      <script>\n",
              "        const buttonEl =\n",
              "          document.querySelector('#df-176baa07-b94b-4444-a961-3fd10043ac6b button.colab-df-convert');\n",
              "        buttonEl.style.display =\n",
              "          google.colab.kernel.accessAllowed ? 'block' : 'none';\n",
              "\n",
              "        async function convertToInteractive(key) {\n",
              "          const element = document.querySelector('#df-176baa07-b94b-4444-a961-3fd10043ac6b');\n",
              "          const dataTable =\n",
              "            await google.colab.kernel.invokeFunction('convertToInteractive',\n",
              "                                                     [key], {});\n",
              "          if (!dataTable) return;\n",
              "\n",
              "          const docLinkHtml = 'Like what you see? Visit the ' +\n",
              "            '<a target=\"_blank\" href=https://colab.research.google.com/notebooks/data_table.ipynb>data table notebook</a>'\n",
              "            + ' to learn more about interactive tables.';\n",
              "          element.innerHTML = '';\n",
              "          dataTable['output_type'] = 'display_data';\n",
              "          await google.colab.output.renderOutput(dataTable, element);\n",
              "          const docLink = document.createElement('div');\n",
              "          docLink.innerHTML = docLinkHtml;\n",
              "          element.appendChild(docLink);\n",
              "        }\n",
              "      </script>\n",
              "    </div>\n",
              "  </div>\n",
              "  "
            ],
            "text/plain": [
              "   Local_Authority_(Highway)  Road_Type  Pedestrian_Crossing-Human_Control  \\\n",
              "0                      150.0        3.0                                2.0   \n",
              "1                      117.0        1.0                                2.0   \n",
              "2                      136.0        2.0                                2.0   \n",
              "3                       90.0        3.0                                2.0   \n",
              "4                      149.0        0.0                                2.0   \n",
              "\n",
              "   Pedestrian_Crossing-Physical_Facilities  Light_Conditions  \\\n",
              "0                                      2.0               4.0   \n",
              "1                                      2.0               4.0   \n",
              "2                                      4.0               4.0   \n",
              "3                                      2.0               4.0   \n",
              "4                                      4.0               4.0   \n",
              "\n",
              "   Weather_Conditions  Road_Surface_Conditions  Special_Conditions_at_Site  \\\n",
              "0                 1.0                      0.0                         4.0   \n",
              "1                 5.0                      0.0                         3.0   \n",
              "2                 1.0                      0.0                         3.0   \n",
              "3                 1.0                      0.0                         7.0   \n",
              "4                 1.0                      0.0                         3.0   \n",
              "\n",
              "   Carriageway_Hazards  Did_Police_Officer_Attend_Scene_of_Accident  state  \n",
              "0                  3.0                                          1.0    2.0  \n",
              "1                  3.0                                          0.0    2.0  \n",
              "2                  3.0                                          0.0    2.0  \n",
              "3                  3.0                                          1.0    2.0  \n",
              "4                  3.0                                          0.0    2.0  "
            ]
          },
          "execution_count": 36,
          "metadata": {},
          "output_type": "execute_result"
        }
      ],
      "source": [
        "df_object.head()"
      ]
    },
    {
      "cell_type": "code",
      "execution_count": null,
      "metadata": {
        "id": "jekObTKsJOBU"
      },
      "outputs": [],
      "source": [
        "cols2=list(df_object.columns)"
      ]
    },
    {
      "cell_type": "code",
      "execution_count": null,
      "metadata": {
        "colab": {
          "base_uri": "https://localhost:8080/",
          "height": 1000
        },
        "id": "Wvu5GjYOKft4",
        "outputId": "e91d42c1-28c1-48aa-c28a-fc5f7089d242"
      },
      "outputs": [
        {
          "data": {
            "image/png": "[encoded data removed]",
            "text/plain": [
              "<Figure size 1440x8640 with 11 Axes>"
            ]
          },
          "metadata": {},
          "output_type": "display_data"
        }
      ],
      "source": [
        "plt.figure(figsize=(20,120))\n",
        "a=0\n",
        "for i in range(1,12):\n",
        "  plt.subplot(4,3,i)\n",
        "  train.groupby(cols2[a]).Number_of_Casualties.sum().plot.bar()\n",
        "  a=a+1\n",
        "\n"
      ]
    },
    {
      "cell_type": "code",
      "execution_count": null,
      "metadata": {
        "id": "wydNKUoQOu3j"
      },
      "outputs": [],
      "source": [
        "df_train=pd.concat([df_numeric,df_object],axis=1)"
      ]
    },
    {
      "cell_type": "code",
      "execution_count": null,
      "metadata": {
        "id": "gyDFjYn-SSVA"
      },
      "outputs": [],
      "source": [
        "from sklearn.feature_selection import mutual_info_classif"
      ]
    },
    {
      "cell_type": "code",
      "execution_count": null,
      "metadata": {
        "colab": {
          "base_uri": "https://localhost:8080/"
        },
        "id": "NnZSTmALSlnQ",
        "outputId": "37de3978-5de8-4dbd-e465-41afb890d6c2"
      },
      "outputs": [
        {
          "data": {
            "text/plain": [
              "(478212, 25)"
            ]
          },
          "execution_count": 41,
          "metadata": {},
          "output_type": "execute_result"
        }
      ],
      "source": [
        "df_train.shape"
      ]
    },
    {
      "cell_type": "code",
      "execution_count": null,
      "metadata": {
        "id": "hFkBWvmqWqez"
      },
      "outputs": [],
      "source": [
        "y=df_train.pop(\"Number_of_Casualties\")"
      ]
    },
    {
      "cell_type": "code",
      "execution_count": null,
      "metadata": {
        "colab": {
          "base_uri": "https://localhost:8080/"
        },
        "id": "xGjqtBGPSGv9",
        "outputId": "c96f0322-4b04-48d4-e74c-ea0437015fe9"
      },
      "outputs": [
        {
          "name": "stderr",
          "output_type": "stream",
          "text": [
            "/usr/local/lib/python3.7/dist-packages/sklearn/metrics/cluster/_supervised.py:65: UserWarning: Clustering metrics expects discrete values but received continuous values for label, and multiclass values for target\n",
            "  warnings.warn(msg, UserWarning)\n"
          ]
        },
        {
          "data": {
            "text/plain": [
              "1st_Road_Number                                0.021793\n",
              "Local_Authority_(District)                     0.010768\n",
              "Police_Force                                   0.008569\n",
              "Local_Authority_(Highway)                      0.001908\n",
              "1st_Road_Class                                 0.001899\n",
              "2nd_Road_Class                                 0.001802\n",
              "Speed_limit                                    0.001773\n",
              "Number_of_Vehicles                             0.001749\n",
              "changed_week_days                              0.000976\n",
              "Urban_or_Rural_Area                            0.000933\n",
              "Road_Type                                      0.000649\n",
              "month_in_year                                  0.000588\n",
              "Light_Conditions                               0.000490\n",
              "state                                          0.000320\n",
              "day_in_month                                   0.000317\n",
              "Road_Surface_Conditions                        0.000305\n",
              "Pedestrian_Crossing-Physical_Facilities        0.000176\n",
              "Weather_Conditions                             0.000149\n",
              "Did_Police_Officer_Attend_Scene_of_Accident    0.000131\n",
              "Day_of_Week                                    0.000130\n",
              "Special_Conditions_at_Site                     0.000062\n",
              "time of the day                                0.000053\n",
              "Carriageway_Hazards                            0.000027\n",
              "Pedestrian_Crossing-Human_Control              0.000019\n",
              "Name: MI_Score, dtype: float64"
            ]
          },
          "execution_count": 43,
          "metadata": {},
          "output_type": "execute_result"
        }
      ],
      "source": [
        "mi_score=mutual_info_classif(df_train,y,discrete_features=[True for i in range(24) ])\n",
        "mi_score=pd.Series(mi_score,name=\"MI_Score\",index=df_train.columns)\n",
        "mi_score.sort_values(ascending=False)"
      ]
    },
    {
      "cell_type": "code",
      "execution_count": null,
      "metadata": {
        "colab": {
          "base_uri": "https://localhost:8080/"
        },
        "id": "m6wPw_L6d9RL",
        "outputId": "737c45a8-cdab-4427-d59a-54d3a62aafa3"
      },
      "outputs": [
        {
          "data": {
            "text/plain": [
              "array([8.56872335e-03, 1.74864462e-03, 1.30118719e-04, 1.07683615e-02,\n",
              "       1.89941181e-03, 2.17933081e-02, 1.77262927e-03, 1.80247762e-03,\n",
              "       9.32974128e-04, 3.17193634e-04, 5.87681099e-04, 5.31043510e-05,\n",
              "       9.76305621e-04, 1.90759986e-03, 6.48906222e-04, 1.94543591e-05,\n",
              "       1.75932790e-04, 4.89853920e-04, 1.48886636e-04, 3.04596637e-04,\n",
              "       6.23611496e-05, 2.73979257e-05, 1.31065448e-04, 3.19768318e-04])"
            ]
          },
          "execution_count": 44,
          "metadata": {},
          "output_type": "execute_result"
        }
      ],
      "source": [
        "mi_score.values"
      ]
    },
    {
      "cell_type": "code",
      "execution_count": null,
      "metadata": {
        "colab": {
          "base_uri": "https://localhost:8080/"
        },
        "id": "GbXCjVpDTbfI",
        "outputId": "9ae4ef67-fb10-411f-8c4b-5b2adc464c50"
      },
      "outputs": [
        {
          "data": {
            "text/plain": [
              "['Police_Force',\n",
              " 'Number_of_Vehicles',\n",
              " 'Local_Authority_(District)',\n",
              " '1st_Road_Class',\n",
              " '1st_Road_Number',\n",
              " 'Speed_limit',\n",
              " '2nd_Road_Class',\n",
              " 'Urban_or_Rural_Area',\n",
              " 'day_in_month',\n",
              " 'month_in_year',\n",
              " 'changed_week_days',\n",
              " 'Local_Authority_(Highway)',\n",
              " 'Road_Type',\n",
              " 'Light_Conditions',\n",
              " 'state']"
            ]
          },
          "execution_count": 45,
          "metadata": {},
          "output_type": "execute_result"
        }
      ],
      "source": [
        "filtered_cols=list(mi_score[mi_score>0.00031].index)\n",
        "filtered_cols"
      ]
    },
    {
      "cell_type": "code",
      "execution_count": null,
      "metadata": {
        "id": "SmGESGBhezhe"
      },
      "outputs": [],
      "source": [
        "filtered_cols.append(\"1st_Road_Number\")\n",
        "filtered_cols.append(\"Local_Authority_(District)\")"
      ]
    },
    {
      "cell_type": "code",
      "execution_count": null,
      "metadata": {
        "id": "7hM1W2rcTi91"
      },
      "outputs": [],
      "source": [
        "df_train=df_train.loc[:,filtered_cols]"
      ]
    },
    {
      "cell_type": "code",
      "execution_count": null,
      "metadata": {
        "colab": {
          "base_uri": "https://localhost:8080/",
          "height": 270
        },
        "id": "KguXk8_fTtMH",
        "outputId": "3039195a-5254-447c-8344-cff0e88a779e"
      },
      "outputs": [
        {
          "data": {
            "text/html": [
              "\n",
              "  <div id=\"df-2273ae65-59da-4b94-a81f-c63134a3aeee\">\n",
              "    <div class=\"colab-df-container\">\n",
              "      <div>\n",
              "<style scoped>\n",
              "    .dataframe tbody tr th:only-of-type {\n",
              "        vertical-align: middle;\n",
              "    }\n",
              "\n",
              "    .dataframe tbody tr th {\n",
              "        vertical-align: top;\n",
              "    }\n",
              "\n",
              "    .dataframe thead th {\n",
              "        text-align: right;\n",
              "    }\n",
              "</style>\n",
              "<table border=\"1\" class=\"dataframe\">\n",
              "  <thead>\n",
              "    <tr style=\"text-align: right;\">\n",
              "      <th></th>\n",
              "      <th>Police_Force</th>\n",
              "      <th>Number_of_Vehicles</th>\n",
              "      <th>Local_Authority_(District)</th>\n",
              "      <th>1st_Road_Class</th>\n",
              "      <th>1st_Road_Number</th>\n",
              "      <th>Speed_limit</th>\n",
              "      <th>2nd_Road_Class</th>\n",
              "      <th>Urban_or_Rural_Area</th>\n",
              "      <th>day_in_month</th>\n",
              "      <th>month_in_year</th>\n",
              "      <th>changed_week_days</th>\n",
              "      <th>Local_Authority_(Highway)</th>\n",
              "      <th>Road_Type</th>\n",
              "      <th>Light_Conditions</th>\n",
              "      <th>state</th>\n",
              "      <th>1st_Road_Number</th>\n",
              "      <th>Local_Authority_(District)</th>\n",
              "    </tr>\n",
              "  </thead>\n",
              "  <tbody>\n",
              "    <tr>\n",
              "      <th>0</th>\n",
              "      <td>34</td>\n",
              "      <td>2</td>\n",
              "      <td>344</td>\n",
              "      <td>4</td>\n",
              "      <td>395</td>\n",
              "      <td>30</td>\n",
              "      <td>-1</td>\n",
              "      <td>1</td>\n",
              "      <td>19</td>\n",
              "      <td>12</td>\n",
              "      <td>-0.957240</td>\n",
              "      <td>150.0</td>\n",
              "      <td>3.0</td>\n",
              "      <td>4.0</td>\n",
              "      <td>2.0</td>\n",
              "      <td>395</td>\n",
              "      <td>344</td>\n",
              "    </tr>\n",
              "    <tr>\n",
              "      <th>1</th>\n",
              "      <td>5</td>\n",
              "      <td>2</td>\n",
              "      <td>102</td>\n",
              "      <td>3</td>\n",
              "      <td>13</td>\n",
              "      <td>30</td>\n",
              "      <td>-1</td>\n",
              "      <td>1</td>\n",
              "      <td>2</td>\n",
              "      <td>11</td>\n",
              "      <td>-1.426183</td>\n",
              "      <td>117.0</td>\n",
              "      <td>1.0</td>\n",
              "      <td>4.0</td>\n",
              "      <td>2.0</td>\n",
              "      <td>13</td>\n",
              "      <td>102</td>\n",
              "    </tr>\n",
              "    <tr>\n",
              "      <th>2</th>\n",
              "      <td>1</td>\n",
              "      <td>2</td>\n",
              "      <td>531</td>\n",
              "      <td>6</td>\n",
              "      <td>8</td>\n",
              "      <td>40</td>\n",
              "      <td>6</td>\n",
              "      <td>1</td>\n",
              "      <td>2</td>\n",
              "      <td>11</td>\n",
              "      <td>-1.426183</td>\n",
              "      <td>136.0</td>\n",
              "      <td>2.0</td>\n",
              "      <td>4.0</td>\n",
              "      <td>2.0</td>\n",
              "      <td>8</td>\n",
              "      <td>531</td>\n",
              "    </tr>\n",
              "    <tr>\n",
              "      <th>3</th>\n",
              "      <td>1</td>\n",
              "      <td>1</td>\n",
              "      <td>7</td>\n",
              "      <td>6</td>\n",
              "      <td>13</td>\n",
              "      <td>30</td>\n",
              "      <td>6</td>\n",
              "      <td>1</td>\n",
              "      <td>6</td>\n",
              "      <td>5</td>\n",
              "      <td>-1.484178</td>\n",
              "      <td>90.0</td>\n",
              "      <td>3.0</td>\n",
              "      <td>4.0</td>\n",
              "      <td>2.0</td>\n",
              "      <td>13</td>\n",
              "      <td>7</td>\n",
              "    </tr>\n",
              "    <tr>\n",
              "      <th>4</th>\n",
              "      <td>46</td>\n",
              "      <td>1</td>\n",
              "      <td>519</td>\n",
              "      <td>3</td>\n",
              "      <td>24</td>\n",
              "      <td>30</td>\n",
              "      <td>6</td>\n",
              "      <td>1</td>\n",
              "      <td>30</td>\n",
              "      <td>6</td>\n",
              "      <td>0.116917</td>\n",
              "      <td>149.0</td>\n",
              "      <td>0.0</td>\n",
              "      <td>4.0</td>\n",
              "      <td>2.0</td>\n",
              "      <td>24</td>\n",
              "      <td>519</td>\n",
              "    </tr>\n",
              "  </tbody>\n",
              "</table>\n",
              "</div>\n",
              "      <button class=\"colab-df-convert\" onclick=\"convertToInteractive('df-2273ae65-59da-4b94-a81f-c63134a3aeee')\"\n",
              "              title=\"Convert this dataframe to an interactive table.\"\n",
              "              style=\"display:none;\">\n",
              "        \n",
              "  <svg xmlns=\"http://www.w3.org/2000/svg\" height=\"24px\"viewBox=\"0 0 24 24\"\n",
              "       width=\"24px\">\n",
              "    <path d=\"M0 0h24v24H0V0z\" fill=\"none\"/>\n",
              "    <path d=\"M18.56 5.44l.94 2.06.94-2.06 2.06-.94-2.06-.94-.94-2.06-.94 2.06-2.06.94zm-11 1L8.5 8.5l.94-2.06 2.06-.94-2.06-.94L8.5 2.5l-.94 2.06-2.06.94zm10 10l.94 2.06.94-2.06 2.06-.94-2.06-.94-.94-2.06-.94 2.06-2.06.94z\"/><path d=\"M17.41 7.96l-1.37-1.37c-.4-.4-.92-.59-1.43-.59-.52 0-1.04.2-1.43.59L10.3 9.45l-7.72 7.72c-.78.78-.78 2.05 0 2.83L4 21.41c.39.39.9.59 1.41.59.51 0 1.02-.2 1.41-.59l7.78-7.78 2.81-2.81c.8-.78.8-2.07 0-2.86zM5.41 20L4 18.59l7.72-7.72 1.47 1.35L5.41 20z\"/>\n",
              "  </svg>\n",
              "      </button>\n",
              "      \n",
              "  <style>\n",
              "    .colab-df-container {\n",
              "      display:flex;\n",
              "      flex-wrap:wrap;\n",
              "      gap: 12px;\n",
              "    }\n",
              "\n",
              "    .colab-df-convert {\n",
              "      background-color: #E8F0FE;\n",
              "      border: none;\n",
              "      border-radius: 50%;\n",
              "      cursor: pointer;\n",
              "      display: none;\n",
              "      fill: #1967D2;\n",
              "      height: 32px;\n",
              "      padding: 0 0 0 0;\n",
              "      width: 32px;\n",
              "    }\n",
              "\n",
              "    .colab-df-convert:hover {\n",
              "      background-color: #E2EBFA;\n",
              "      box-shadow: 0px 1px 2px rgba(60, 64, 67, 0.3), 0px 1px 3px 1px rgba(60, 64, 67, 0.15);\n",
              "      fill: #174EA6;\n",
              "    }\n",
              "\n",
              "    [theme=dark] .colab-df-convert {\n",
              "      background-color: #3B4455;\n",
              "      fill: #D2E3FC;\n",
              "    }\n",
              "\n",
              "    [theme=dark] .colab-df-convert:hover {\n",
              "      background-color: #434B5C;\n",
              "      box-shadow: 0px 1px 3px 1px rgba(0, 0, 0, 0.15);\n",
              "      filter: drop-shadow(0px 1px 2px rgba(0, 0, 0, 0.3));\n",
              "      fill: #FFFFFF;\n",
              "    }\n",
              "  </style>\n",
              "\n",
              "      <script>\n",
              "        const buttonEl =\n",
              "          document.querySelector('#df-2273ae65-59da-4b94-a81f-c63134a3aeee button.colab-df-convert');\n",
              "        buttonEl.style.display =\n",
              "          google.colab.kernel.accessAllowed ? 'block' : 'none';\n",
              "\n",
              "        async function convertToInteractive(key) {\n",
              "          const element = document.querySelector('#df-2273ae65-59da-4b94-a81f-c63134a3aeee');\n",
              "          const dataTable =\n",
              "            await google.colab.kernel.invokeFunction('convertToInteractive',\n",
              "                                                     [key], {});\n",
              "          if (!dataTable) return;\n",
              "\n",
              "          const docLinkHtml = 'Like what you see? Visit the ' +\n",
              "            '<a target=\"_blank\" href=https://colab.research.google.com/notebooks/data_table.ipynb>data table notebook</a>'\n",
              "            + ' to learn more about interactive tables.';\n",
              "          element.innerHTML = '';\n",
              "          dataTable['output_type'] = 'display_data';\n",
              "          await google.colab.output.renderOutput(dataTable, element);\n",
              "          const docLink = document.createElement('div');\n",
              "          docLink.innerHTML = docLinkHtml;\n",
              "          element.appendChild(docLink);\n",
              "        }\n",
              "      </script>\n",
              "    </div>\n",
              "  </div>\n",
              "  "
            ],
            "text/plain": [
              "   Police_Force  Number_of_Vehicles  Local_Authority_(District)  \\\n",
              "0            34                   2                         344   \n",
              "1             5                   2                         102   \n",
              "2             1                   2                         531   \n",
              "3             1                   1                           7   \n",
              "4            46                   1                         519   \n",
              "\n",
              "   1st_Road_Class  1st_Road_Number  Speed_limit  2nd_Road_Class  \\\n",
              "0               4              395           30              -1   \n",
              "1               3               13           30              -1   \n",
              "2               6                8           40               6   \n",
              "3               6               13           30               6   \n",
              "4               3               24           30               6   \n",
              "\n",
              "   Urban_or_Rural_Area  day_in_month  month_in_year  changed_week_days  \\\n",
              "0                    1            19             12          -0.957240   \n",
              "1                    1             2             11          -1.426183   \n",
              "2                    1             2             11          -1.426183   \n",
              "3                    1             6              5          -1.484178   \n",
              "4                    1            30              6           0.116917   \n",
              "\n",
              "   Local_Authority_(Highway)  Road_Type  Light_Conditions  state  \\\n",
              "0                      150.0        3.0               4.0    2.0   \n",
              "1                      117.0        1.0               4.0    2.0   \n",
              "2                      136.0        2.0               4.0    2.0   \n",
              "3                       90.0        3.0               4.0    2.0   \n",
              "4                      149.0        0.0               4.0    2.0   \n",
              "\n",
              "   1st_Road_Number  Local_Authority_(District)  \n",
              "0              395                         344  \n",
              "1               13                         102  \n",
              "2                8                         531  \n",
              "3               13                           7  \n",
              "4               24                         519  "
            ]
          },
          "execution_count": 48,
          "metadata": {},
          "output_type": "execute_result"
        }
      ],
      "source": [
        "df_train.head()"
      ]
    },
    {
      "cell_type": "code",
      "execution_count": null,
      "metadata": {
        "id": "oUNb7JENPYLR"
      },
      "outputs": [],
      "source": [
        "from sklearn.model_selection import train_test_split\n",
        "X_train,X_test,Y_train,Y_test=train_test_split(df_train,y,test_size=0.2,random_state=1)\n"
      ]
    },
    {
      "cell_type": "code",
      "execution_count": null,
      "metadata": {
        "colab": {
          "base_uri": "https://localhost:8080/"
        },
        "id": "cBIIYHNKQouB",
        "outputId": "93a5ec3b-3d42-4d06-88ea-805ae0518a58"
      },
      "outputs": [
        {
          "data": {
            "text/plain": [
              "((382569, 17), (95643, 17), (382569,), (95643,))"
            ]
          },
          "execution_count": 50,
          "metadata": {},
          "output_type": "execute_result"
        }
      ],
      "source": [
        "X_train.shape,X_test.shape,Y_train.shape,Y_test.shape"
      ]
    },
    {
      "cell_type": "code",
      "execution_count": null,
      "metadata": {
        "colab": {
          "base_uri": "https://localhost:8080/"
        },
        "id": "klU4Tih3X9lW",
        "outputId": "756118b2-9ad4-4294-df58-3a8eaf962a3e"
      },
      "outputs": [
        {
          "name": "stdout",
          "output_type": "stream",
          "text": [
            "Fitting 5 folds for each of 10 candidates, totalling 50 fits\n",
            "[CV 1/5] END ......................max_depth=5;, score=-0.628 total time=   2.0s\n",
            "[CV 2/5] END ......................max_depth=5;, score=-0.629 total time=   2.1s\n",
            "[CV 3/5] END ......................max_depth=5;, score=-0.631 total time=   2.2s\n",
            "[CV 4/5] END ......................max_depth=5;, score=-0.632 total time=   2.0s\n",
            "[CV 5/5] END ......................max_depth=5;, score=-0.628 total time=   1.4s\n",
            "[CV 1/5] END ......................max_depth=6;, score=-0.627 total time=   1.6s\n",
            "[CV 2/5] END ......................max_depth=6;, score=-0.629 total time=   1.6s\n",
            "[CV 3/5] END ......................max_depth=6;, score=-0.630 total time=   1.6s\n",
            "[CV 4/5] END ......................max_depth=6;, score=-0.631 total time=   1.6s\n",
            "[CV 5/5] END ......................max_depth=6;, score=-0.627 total time=   1.6s\n",
            "[CV 1/5] END ......................max_depth=7;, score=-0.627 total time=   1.8s\n",
            "[CV 2/5] END ......................max_depth=7;, score=-0.629 total time=   1.9s\n",
            "[CV 3/5] END ......................max_depth=7;, score=-0.629 total time=   1.9s\n",
            "[CV 4/5] END ......................max_depth=7;, score=-0.631 total time=   1.9s\n",
            "[CV 5/5] END ......................max_depth=7;, score=-0.627 total time=   1.9s\n",
            "[CV 1/5] END ......................max_depth=8;, score=-0.627 total time=   2.1s\n",
            "[CV 2/5] END ......................max_depth=8;, score=-0.628 total time=   2.1s\n",
            "[CV 3/5] END ......................max_depth=8;, score=-0.630 total time=   2.1s\n",
            "[CV 4/5] END ......................max_depth=8;, score=-0.631 total time=   2.1s\n",
            "[CV 5/5] END ......................max_depth=8;, score=-0.627 total time=   2.2s\n",
            "[CV 1/5] END ......................max_depth=9;, score=-0.627 total time=   2.4s\n",
            "[CV 2/5] END ......................max_depth=9;, score=-0.629 total time=   2.3s\n",
            "[CV 3/5] END ......................max_depth=9;, score=-0.630 total time=   2.3s\n",
            "[CV 4/5] END ......................max_depth=9;, score=-0.631 total time=   2.4s\n",
            "[CV 5/5] END ......................max_depth=9;, score=-0.627 total time=   2.4s\n",
            "[CV 1/5] END .....................max_depth=10;, score=-0.627 total time=   2.6s\n",
            "[CV 2/5] END .....................max_depth=10;, score=-0.629 total time=   2.6s\n",
            "[CV 3/5] END .....................max_depth=10;, score=-0.631 total time=   2.6s\n",
            "[CV 4/5] END .....................max_depth=10;, score=-0.631 total time=   2.6s\n",
            "[CV 5/5] END .....................max_depth=10;, score=-0.627 total time=   2.6s\n",
            "[CV 1/5] END .....................max_depth=11;, score=-0.628 total time=   2.8s\n",
            "[CV 2/5] END .....................max_depth=11;, score=-0.629 total time=   2.8s\n",
            "[CV 3/5] END .....................max_depth=11;, score=-0.631 total time=   2.8s\n",
            "[CV 4/5] END .....................max_depth=11;, score=-0.632 total time=   2.8s\n",
            "[CV 5/5] END .....................max_depth=11;, score=-0.628 total time=   2.8s\n",
            "[CV 1/5] END .....................max_depth=12;, score=-0.629 total time=   3.0s\n",
            "[CV 2/5] END .....................max_depth=12;, score=-0.630 total time=   3.0s\n",
            "[CV 3/5] END .....................max_depth=12;, score=-0.632 total time=   3.0s\n",
            "[CV 4/5] END .....................max_depth=12;, score=-0.634 total time=   3.1s\n",
            "[CV 5/5] END .....................max_depth=12;, score=-0.629 total time=   3.1s\n",
            "[CV 1/5] END .....................max_depth=13;, score=-0.632 total time=   3.2s\n",
            "[CV 2/5] END .....................max_depth=13;, score=-0.631 total time=   3.3s\n",
            "[CV 3/5] END .....................max_depth=13;, score=-0.635 total time=   3.3s\n",
            "[CV 4/5] END .....................max_depth=13;, score=-0.635 total time=   3.3s\n",
            "[CV 5/5] END .....................max_depth=13;, score=-0.631 total time=   3.3s\n",
            "[CV 1/5] END .....................max_depth=14;, score=-0.635 total time=   3.5s\n",
            "[CV 2/5] END .....................max_depth=14;, score=-0.634 total time=   3.5s\n",
            "[CV 3/5] END .....................max_depth=14;, score=-0.639 total time=   3.5s\n",
            "[CV 4/5] END .....................max_depth=14;, score=-0.637 total time=   3.6s\n",
            "[CV 5/5] END .....................max_depth=14;, score=-0.634 total time=   3.5s\n"
          ]
        },
        {
          "data": {
            "text/plain": [
              "GridSearchCV(estimator=DecisionTreeRegressor(),\n",
              "             param_grid={'max_depth': range(5, 15)},\n",
              "             scoring='neg_mean_absolute_error', verbose=3)"
            ]
          },
          "execution_count": 52,
          "metadata": {},
          "output_type": "execute_result"
        }
      ],
      "source": [
        "from sklearn.tree import DecisionTreeRegressor\n",
        "from sklearn.model_selection import GridSearchCV\n",
        "param_grid={\"max_depth\":range(5,15)}\n",
        "tree_mdl=DecisionTreeRegressor()\n",
        "Grid_search=GridSearchCV(tree_mdl,param_grid,verbose=3,scoring=\"neg_mean_absolute_error\")\n",
        "Grid_search.fit(df_train,y)"
      ]
    },
    {
      "cell_type": "code",
      "execution_count": null,
      "metadata": {
        "id": "5c5MgJn3UOTV"
      },
      "outputs": [],
      "source": [
        "\n",
        "tree_model=DecisionTreeRegressor(max_depth=6,splitter=\"best\",criterion=\"squared_error\",random_state=1)\n",
        "tree_model.fit(X_train,Y_train)\n",
        "y_predict=tree_model.predict(X_train)"
      ]
    },
    {
      "cell_type": "code",
      "execution_count": null,
      "metadata": {
        "colab": {
          "base_uri": "https://localhost:8080/"
        },
        "id": "3z962yAMVCer",
        "outputId": "1e996042-c333-44fc-f3be-abea70ad1ae2"
      },
      "outputs": [
        {
          "name": "stdout",
          "output_type": "stream",
          "text": [
            "root_mean_squared_error: 0.809483645823335\n",
            "r2_score: 0.01434746138191667\n",
            "Adj_r2: 0.014303660442547717\n"
          ]
        }
      ],
      "source": [
        "from sklearn.metrics import mean_squared_error,r2_score\n",
        "print(\"root_mean_squared_error:\",np.sqrt(mean_squared_error(Y_train,y_predict)))\n",
        "r2_score_train=r2_score(Y_train,y_predict)\n",
        "print(\"r2_score:\",r2_score_train)\n",
        "Adj_r2 = 1 - (1-r2_score_train)*(len(Y_train)-1)/(len(Y_train)-X_train.shape[1]-1)\n",
        "print(\"Adj_r2:\",Adj_r2)"
      ]
    },
    {
      "cell_type": "code",
      "execution_count": null,
      "metadata": {
        "id": "9LXPGTUpVyr6"
      },
      "outputs": [],
      "source": [
        "test_predict=tree_model.predict(X_test)"
      ]
    },
    {
      "cell_type": "code",
      "execution_count": null,
      "metadata": {
        "colab": {
          "base_uri": "https://localhost:8080/"
        },
        "id": "WdS9iIWXVeoT",
        "outputId": "4d4326d5-8a41-48e5-a5ac-9cb4c807d270"
      },
      "outputs": [
        {
          "name": "stdout",
          "output_type": "stream",
          "text": [
            "root_mean_squared_error: 0.8132356154010209\n",
            "r2_score: 0.01291911806014645\n",
            "Adj_r2: 0.012743637014468234\n"
          ]
        }
      ],
      "source": [
        "print(\"root_mean_squared_error:\",np.sqrt(mean_squared_error(Y_test,test_predict)))\n",
        "r2_score_test=r2_score(Y_test,test_predict)\n",
        "print(\"r2_score:\",r2_score_test)\n",
        "Adj_r2_test = 1 - (1-r2_score_test)*(len(Y_test)-1)/(len(Y_test)-X_train.shape[1]-1)\n",
        "print(\"Adj_r2:\",Adj_r2_test)"
      ]
    },
    {
      "cell_type": "code",
      "execution_count": null,
      "metadata": {
        "id": "URN84Lu3lo3n"
      },
      "outputs": [],
      "source": [
        "from sklearn.ensemble import RandomForestRegressor\n",
        "rd_model=RandomForestRegressor(n_estimators=90,criterion=\"squared_error\",max_depth=9)\n",
        "rd_model.fit(X_train,Y_train)\n",
        "y_predict=rd_model.predict(X_train)"
      ]
    },
    {
      "cell_type": "code",
      "execution_count": null,
      "metadata": {
        "colab": {
          "base_uri": "https://localhost:8080/"
        },
        "id": "oB-BqBJonh2T",
        "outputId": "5257461e-34d2-4d46-f38f-28af9a61549d"
      },
      "outputs": [
        {
          "name": "stdout",
          "output_type": "stream",
          "text": [
            "root_mean_squared_error: 0.8037462350905705\n",
            "r2_score: 0.028270046632351775\n",
            "Adj_r2: 0.02822686439205635\n"
          ]
        }
      ],
      "source": [
        "print(\"root_mean_squared_error:\",np.sqrt(mean_squared_error(Y_train,y_predict)))\n",
        "r2_score_train=r2_score(Y_train,y_predict)\n",
        "print(\"r2_score:\",r2_score_train)\n",
        "Adj_r2 = 1 - (1-r2_score_train)*(len(Y_train)-1)/(len(Y_train)-X_train.shape[1]-1)\n",
        "print(\"Adj_r2:\",Adj_r2)"
      ]
    },
    {
      "cell_type": "code",
      "execution_count": null,
      "metadata": {
        "id": "iH94ljLdoAlm"
      },
      "outputs": [],
      "source": [
        "test_predict=rd_model.predict(X_test)"
      ]
    },
    {
      "cell_type": "code",
      "execution_count": null,
      "metadata": {
        "colab": {
          "base_uri": "https://localhost:8080/"
        },
        "id": "MfPf5dbTns0r",
        "outputId": "396e2ed2-14de-4473-e576-e9c70ec99bde"
      },
      "outputs": [
        {
          "name": "stdout",
          "output_type": "stream",
          "text": [
            "root_mean_squared_error: 0.8122133683857505\n",
            "r2_score: 0.015399103634418765\n",
            "Adj_r2: 0.015224063475064886\n"
          ]
        }
      ],
      "source": [
        "print(\"root_mean_squared_error:\",np.sqrt(mean_squared_error(Y_test,test_predict)))\n",
        "r2_score_test=r2_score(Y_test,test_predict)\n",
        "print(\"r2_score:\",r2_score_test)\n",
        "Adj_r2_test = 1 - (1-r2_score_test)*(len(Y_test)-1)/(len(Y_test)-X_train.shape[1]-1)\n",
        "print(\"Adj_r2:\",Adj_r2_test)"
      ]
    },
    {
      "cell_type": "code",
      "execution_count": null,
      "metadata": {
        "id": "i5KZ0kFJps92"
      },
      "outputs": [],
      "source": [
        "dict1={\"n_estimators\":range(80,100),\n",
        "       \"r2_score_train\":[],\n",
        "       \"r2_score_test\":[]}\n",
        "for i in dict1[\"n_estimators\"]:\n",
        "  model=RandomForestRegressor(max_depth=6,n_estimators=i,criterion=\"squared_error\",random_state=1)\n",
        "  model.fit(X_train,Y_train)\n",
        "  y_pred=model.predict(X_train)\n",
        "  test_pred=model.predict(X_test)\n",
        "  dict1[\"r2_score_train\"]+=[r2_score(Y_train,y_pred)]\n",
        "  dict1[\"r2_score_test\"]+=[r2_score(Y_test,test_pred)]\n"
      ]
    },
    {
      "cell_type": "code",
      "execution_count": null,
      "metadata": {
        "colab": {
          "base_uri": "https://localhost:8080/"
        },
        "id": "Wf4BbiapTIuS",
        "outputId": "5c9152af-4a26-4124-8905-6cb38c781ba4"
      },
      "outputs": [
        {
          "data": {
            "text/plain": [
              "{'n_estimators': range(80, 100),\n",
              " 'r2_score_test': [0.01466333059402769,\n",
              "  0.014664181607387028,\n",
              "  0.01466268002287685,\n",
              "  0.014656599226603118,\n",
              "  0.014652580649093916,\n",
              "  0.014657531493751819,\n",
              "  0.014658379460333881,\n",
              "  0.014657491783588994,\n",
              "  0.014665620676829416,\n",
              "  0.01467165996636799,\n",
              "  0.014675944445257438,\n",
              "  0.014669969307031572,\n",
              "  0.014669170865378778,\n",
              "  0.01466382400395183,\n",
              "  0.014661480080954359,\n",
              "  0.01466239883996856,\n",
              "  0.01466283067438312,\n",
              "  0.01466144673179659,\n",
              "  0.014656915872694465,\n",
              "  0.014654909660332005],\n",
              " 'r2_score_train': [0.015724669428330174,\n",
              "  0.01572334339372461,\n",
              "  0.015720083011120045,\n",
              "  0.01572010602251861,\n",
              "  0.015721521477443323,\n",
              "  0.015723550785431306,\n",
              "  0.01572001365696296,\n",
              "  0.015714109706393198,\n",
              "  0.01571899683765987,\n",
              "  0.01571606803687975,\n",
              "  0.015710524535839765,\n",
              "  0.01571200270490547,\n",
              "  0.01570856948438415,\n",
              "  0.015705462135274684,\n",
              "  0.015702843632913188,\n",
              "  0.01569903409130502,\n",
              "  0.01569696936887166,\n",
              "  0.015702837809371872,\n",
              "  0.015704795341465627,\n",
              "  0.015701356136499034]}"
            ]
          },
          "execution_count": 62,
          "metadata": {},
          "output_type": "execute_result"
        }
      ],
      "source": [
        "dict1"
      ]
    },
    {
      "cell_type": "code",
      "execution_count": null,
      "metadata": {
        "id": "Vh3Di_oFxaNh"
      },
      "outputs": [],
      "source": [
        "import plotly.express as px"
      ]
    },
    {
      "cell_type": "code",
      "execution_count": null,
      "metadata": {
        "colab": {
          "base_uri": "https://localhost:8080/",
          "height": 542
        },
        "id": "c46T5fDPxOCX",
        "outputId": "d231eb17-e9ca-40fb-af86-7f208be4ab80"
      },
      "outputs": [
        {
          "data": {
            "text/html": [
              "<html>\n",
              "<head><meta charset=\"utf-8\" /></head>\n",
              "<body>\n",
              "    <div>            <script src=\"https://cdnjs.cloudflare.com/ajax/libs/mathjax/2.7.5/MathJax.js?config=TeX-AMS-MML_SVG\"></script><script type=\"text/javascript\">if (window.MathJax) {MathJax.Hub.Config({SVG: {font: \"STIX-Web\"}});}</script>                <script type=\"text/javascript\">window.PlotlyConfig = {MathJaxConfig: 'local'};</script>\n",
              "        <script src=\"https://cdn.plot.ly/plotly-2.8.3.min.js\"></script>                <div id=\"7461a934-940a-450b-b0af-0a5133b95d17\" class=\"plotly-graph-div\" style=\"height:525px; width:100%;\"></div>            <script type=\"text/javascript\">                                    window.PLOTLYENV=window.PLOTLYENV || {};                                    if (document.getElementById(\"7461a934-940a-450b-b0af-0a5133b95d17\")) {                    Plotly.newPlot(                        \"7461a934-940a-450b-b0af-0a5133b95d17\",                        [{\"hovertemplate\":\"variable=r2_score_train<br>n_estimators=%{x}<br>value=%{y}<extra></extra>\",\"legendgroup\":\"r2_score_train\",\"line\":{\"color\":\"#636efa\",\"dash\":\"solid\"},\"marker\":{\"symbol\":\"circle\"},\"mode\":\"lines\",\"name\":\"r2_score_train\",\"orientation\":\"v\",\"showlegend\":true,\"x\":[80,81,82,83,84,85,86,87,88,89,90,91,92,93,94,95,96,97,98,99],\"xaxis\":\"x\",\"y\":[0.015724669428330174,0.01572334339372461,0.015720083011120045,0.01572010602251861,0.015721521477443323,0.015723550785431306,0.01572001365696296,0.015714109706393198,0.01571899683765987,0.01571606803687975,0.015710524535839765,0.01571200270490547,0.01570856948438415,0.015705462135274684,0.015702843632913188,0.01569903409130502,0.01569696936887166,0.015702837809371872,0.015704795341465627,0.015701356136499034],\"yaxis\":\"y\",\"type\":\"scatter\"},{\"hovertemplate\":\"variable=r2_score_test<br>n_estimators=%{x}<br>value=%{y}<extra></extra>\",\"legendgroup\":\"r2_score_test\",\"line\":{\"color\":\"#EF553B\",\"dash\":\"solid\"},\"marker\":{\"symbol\":\"circle\"},\"mode\":\"lines\",\"name\":\"r2_score_test\",\"orientation\":\"v\",\"showlegend\":true,\"x\":[80,81,82,83,84,85,86,87,88,89,90,91,92,93,94,95,96,97,98,99],\"xaxis\":\"x\",\"y\":[0.01466333059402769,0.014664181607387028,0.01466268002287685,0.014656599226603118,0.014652580649093916,0.014657531493751819,0.014658379460333881,0.014657491783588994,0.014665620676829416,0.01467165996636799,0.014675944445257438,0.014669969307031572,0.014669170865378778,0.01466382400395183,0.014661480080954359,0.01466239883996856,0.01466283067438312,0.01466144673179659,0.014656915872694465,0.014654909660332005],\"yaxis\":\"y\",\"type\":\"scatter\"}],                        {\"template\":{\"data\":{\"bar\":[{\"error_x\":{\"color\":\"#2a3f5f\"},\"error_y\":{\"color\":\"#2a3f5f\"},\"marker\":{\"line\":{\"color\":\"#E5ECF6\",\"width\":0.5},\"pattern\":{\"fillmode\":\"overlay\",\"size\":10,\"solidity\":0.2}},\"type\":\"bar\"}],\"barpolar\":[{\"marker\":{\"line\":{\"color\":\"#E5ECF6\",\"width\":0.5},\"pattern\":{\"fillmode\":\"overlay\",\"size\":10,\"solidity\":0.2}},\"type\":\"barpolar\"}],\"carpet\":[{\"aaxis\":{\"endlinecolor\":\"#2a3f5f\",\"gridcolor\":\"white\",\"linecolor\":\"white\",\"minorgridcolor\":\"white\",\"startlinecolor\":\"#2a3f5f\"},\"baxis\":{\"endlinecolor\":\"#2a3f5f\",\"gridcolor\":\"white\",\"linecolor\":\"white\",\"minorgridcolor\":\"white\",\"startlinecolor\":\"#2a3f5f\"},\"type\":\"carpet\"}],\"choropleth\":[{\"colorbar\":{\"outlinewidth\":0,\"ticks\":\"\"},\"type\":\"choropleth\"}],\"contour\":[{\"colorbar\":{\"outlinewidth\":0,\"ticks\":\"\"},\"colorscale\":[[0.0,\"#0d0887\"],[0.1111111111111111,\"#46039f\"],[0.2222222222222222,\"#7201a8\"],[0.3333333333333333,\"#9c179e\"],[0.4444444444444444,\"#bd3786\"],[0.5555555555555556,\"#d8576b\"],[0.6666666666666666,\"#ed7953\"],[0.7777777777777778,\"#fb9f3a\"],[0.8888888888888888,\"#fdca26\"],[1.0,\"#f0f921\"]],\"type\":\"contour\"}],\"contourcarpet\":[{\"colorbar\":{\"outlinewidth\":0,\"ticks\":\"\"},\"type\":\"contourcarpet\"}],\"heatmap\":[{\"colorbar\":{\"outlinewidth\":0,\"ticks\":\"\"},\"colorscale\":[[0.0,\"#0d0887\"],[0.1111111111111111,\"#46039f\"],[0.2222222222222222,\"#7201a8\"],[0.3333333333333333,\"#9c179e\"],[0.4444444444444444,\"#bd3786\"],[0.5555555555555556,\"#d8576b\"],[0.6666666666666666,\"#ed7953\"],[0.7777777777777778,\"#fb9f3a\"],[0.8888888888888888,\"#fdca26\"],[1.0,\"#f0f921\"]],\"type\":\"heatmap\"}],\"heatmapgl\":[{\"colorbar\":{\"outlinewidth\":0,\"ticks\":\"\"},\"colorscale\":[[0.0,\"#0d0887\"],[0.1111111111111111,\"#46039f\"],[0.2222222222222222,\"#7201a8\"],[0.3333333333333333,\"#9c179e\"],[0.4444444444444444,\"#bd3786\"],[0.5555555555555556,\"#d8576b\"],[0.6666666666666666,\"#ed7953\"],[0.7777777777777778,\"#fb9f3a\"],[0.8888888888888888,\"#fdca26\"],[1.0,\"#f0f921\"]],\"type\":\"heatmapgl\"}],\"histogram\":[{\"marker\":{\"pattern\":{\"fillmode\":\"overlay\",\"size\":10,\"solidity\":0.2}},\"type\":\"histogram\"}],\"histogram2d\":[{\"colorbar\":{\"outlinewidth\":0,\"ticks\":\"\"},\"colorscale\":[[0.0,\"#0d0887\"],[0.1111111111111111,\"#46039f\"],[0.2222222222222222,\"#7201a8\"],[0.3333333333333333,\"#9c179e\"],[0.4444444444444444,\"#bd3786\"],[0.5555555555555556,\"#d8576b\"],[0.6666666666666666,\"#ed7953\"],[0.7777777777777778,\"#fb9f3a\"],[0.8888888888888888,\"#fdca26\"],[1.0,\"#f0f921\"]],\"type\":\"histogram2d\"}],\"histogram2dcontour\":[{\"colorbar\":{\"outlinewidth\":0,\"ticks\":\"\"},\"colorscale\":[[0.0,\"#0d0887\"],[0.1111111111111111,\"#46039f\"],[0.2222222222222222,\"#7201a8\"],[0.3333333333333333,\"#9c179e\"],[0.4444444444444444,\"#bd3786\"],[0.5555555555555556,\"#d8576b\"],[0.6666666666666666,\"#ed7953\"],[0.7777777777777778,\"#fb9f3a\"],[0.8888888888888888,\"#fdca26\"],[1.0,\"#f0f921\"]],\"type\":\"histogram2dcontour\"}],\"mesh3d\":[{\"colorbar\":{\"outlinewidth\":0,\"ticks\":\"\"},\"type\":\"mesh3d\"}],\"parcoords\":[{\"line\":{\"colorbar\":{\"outlinewidth\":0,\"ticks\":\"\"}},\"type\":\"parcoords\"}],\"pie\":[{\"automargin\":true,\"type\":\"pie\"}],\"scatter\":[{\"marker\":{\"colorbar\":{\"outlinewidth\":0,\"ticks\":\"\"}},\"type\":\"scatter\"}],\"scatter3d\":[{\"line\":{\"colorbar\":{\"outlinewidth\":0,\"ticks\":\"\"}},\"marker\":{\"colorbar\":{\"outlinewidth\":0,\"ticks\":\"\"}},\"type\":\"scatter3d\"}],\"scattercarpet\":[{\"marker\":{\"colorbar\":{\"outlinewidth\":0,\"ticks\":\"\"}},\"type\":\"scattercarpet\"}],\"scattergeo\":[{\"marker\":{\"colorbar\":{\"outlinewidth\":0,\"ticks\":\"\"}},\"type\":\"scattergeo\"}],\"scattergl\":[{\"marker\":{\"colorbar\":{\"outlinewidth\":0,\"ticks\":\"\"}},\"type\":\"scattergl\"}],\"scattermapbox\":[{\"marker\":{\"colorbar\":{\"outlinewidth\":0,\"ticks\":\"\"}},\"type\":\"scattermapbox\"}],\"scatterpolar\":[{\"marker\":{\"colorbar\":{\"outlinewidth\":0,\"ticks\":\"\"}},\"type\":\"scatterpolar\"}],\"scatterpolargl\":[{\"marker\":{\"colorbar\":{\"outlinewidth\":0,\"ticks\":\"\"}},\"type\":\"scatterpolargl\"}],\"scatterternary\":[{\"marker\":{\"colorbar\":{\"outlinewidth\":0,\"ticks\":\"\"}},\"type\":\"scatterternary\"}],\"surface\":[{\"colorbar\":{\"outlinewidth\":0,\"ticks\":\"\"},\"colorscale\":[[0.0,\"#0d0887\"],[0.1111111111111111,\"#46039f\"],[0.2222222222222222,\"#7201a8\"],[0.3333333333333333,\"#9c179e\"],[0.4444444444444444,\"#bd3786\"],[0.5555555555555556,\"#d8576b\"],[0.6666666666666666,\"#ed7953\"],[0.7777777777777778,\"#fb9f3a\"],[0.8888888888888888,\"#fdca26\"],[1.0,\"#f0f921\"]],\"type\":\"surface\"}],\"table\":[{\"cells\":{\"fill\":{\"color\":\"#EBF0F8\"},\"line\":{\"color\":\"white\"}},\"header\":{\"fill\":{\"color\":\"#C8D4E3\"},\"line\":{\"color\":\"white\"}},\"type\":\"table\"}]},\"layout\":{\"annotationdefaults\":{\"arrowcolor\":\"#2a3f5f\",\"arrowhead\":0,\"arrowwidth\":1},\"autotypenumbers\":\"strict\",\"coloraxis\":{\"colorbar\":{\"outlinewidth\":0,\"ticks\":\"\"}},\"colorscale\":{\"diverging\":[[0,\"#8e0152\"],[0.1,\"#c51b7d\"],[0.2,\"#de77ae\"],[0.3,\"#f1b6da\"],[0.4,\"#fde0ef\"],[0.5,\"#f7f7f7\"],[0.6,\"#e6f5d0\"],[0.7,\"#b8e186\"],[0.8,\"#7fbc41\"],[0.9,\"#4d9221\"],[1,\"#276419\"]],\"sequential\":[[0.0,\"#0d0887\"],[0.1111111111111111,\"#46039f\"],[0.2222222222222222,\"#7201a8\"],[0.3333333333333333,\"#9c179e\"],[0.4444444444444444,\"#bd3786\"],[0.5555555555555556,\"#d8576b\"],[0.6666666666666666,\"#ed7953\"],[0.7777777777777778,\"#fb9f3a\"],[0.8888888888888888,\"#fdca26\"],[1.0,\"#f0f921\"]],\"sequentialminus\":[[0.0,\"#0d0887\"],[0.1111111111111111,\"#46039f\"],[0.2222222222222222,\"#7201a8\"],[0.3333333333333333,\"#9c179e\"],[0.4444444444444444,\"#bd3786\"],[0.5555555555555556,\"#d8576b\"],[0.6666666666666666,\"#ed7953\"],[0.7777777777777778,\"#fb9f3a\"],[0.8888888888888888,\"#fdca26\"],[1.0,\"#f0f921\"]]},\"colorway\":[\"#636efa\",\"#EF553B\",\"#00cc96\",\"#ab63fa\",\"#FFA15A\",\"#19d3f3\",\"#FF6692\",\"#B6E880\",\"#FF97FF\",\"#FECB52\"],\"font\":{\"color\":\"#2a3f5f\"},\"geo\":{\"bgcolor\":\"white\",\"lakecolor\":\"white\",\"landcolor\":\"#E5ECF6\",\"showlakes\":true,\"showland\":true,\"subunitcolor\":\"white\"},\"hoverlabel\":{\"align\":\"left\"},\"hovermode\":\"closest\",\"mapbox\":{\"style\":\"light\"},\"paper_bgcolor\":\"white\",\"plot_bgcolor\":\"#E5ECF6\",\"polar\":{\"angularaxis\":{\"gridcolor\":\"white\",\"linecolor\":\"white\",\"ticks\":\"\"},\"bgcolor\":\"#E5ECF6\",\"radialaxis\":{\"gridcolor\":\"white\",\"linecolor\":\"white\",\"ticks\":\"\"}},\"scene\":{\"xaxis\":{\"backgroundcolor\":\"#E5ECF6\",\"gridcolor\":\"white\",\"gridwidth\":2,\"linecolor\":\"white\",\"showbackground\":true,\"ticks\":\"\",\"zerolinecolor\":\"white\"},\"yaxis\":{\"backgroundcolor\":\"#E5ECF6\",\"gridcolor\":\"white\",\"gridwidth\":2,\"linecolor\":\"white\",\"showbackground\":true,\"ticks\":\"\",\"zerolinecolor\":\"white\"},\"zaxis\":{\"backgroundcolor\":\"#E5ECF6\",\"gridcolor\":\"white\",\"gridwidth\":2,\"linecolor\":\"white\",\"showbackground\":true,\"ticks\":\"\",\"zerolinecolor\":\"white\"}},\"shapedefaults\":{\"line\":{\"color\":\"#2a3f5f\"}},\"ternary\":{\"aaxis\":{\"gridcolor\":\"white\",\"linecolor\":\"white\",\"ticks\":\"\"},\"baxis\":{\"gridcolor\":\"white\",\"linecolor\":\"white\",\"ticks\":\"\"},\"bgcolor\":\"#E5ECF6\",\"caxis\":{\"gridcolor\":\"white\",\"linecolor\":\"white\",\"ticks\":\"\"}},\"title\":{\"x\":0.05},\"xaxis\":{\"automargin\":true,\"gridcolor\":\"white\",\"linecolor\":\"white\",\"ticks\":\"\",\"title\":{\"standoff\":15},\"zerolinecolor\":\"white\",\"zerolinewidth\":2},\"yaxis\":{\"automargin\":true,\"gridcolor\":\"white\",\"linecolor\":\"white\",\"ticks\":\"\",\"title\":{\"standoff\":15},\"zerolinecolor\":\"white\",\"zerolinewidth\":2}}},\"xaxis\":{\"anchor\":\"y\",\"domain\":[0.0,1.0],\"title\":{\"text\":\"n_estimators\"}},\"yaxis\":{\"anchor\":\"x\",\"domain\":[0.0,1.0],\"title\":{\"text\":\"Accuracy\"}},\"legend\":{\"title\":{\"text\":\"variable\"},\"tracegroupgap\":0},\"title\":{\"text\":\"train_acc ,test_acc vs n_estimators\",\"x\":0.5,\"font\":{\"size\":26}}},                        {\"responsive\": true}                    ).then(function(){\n",
              "                            \n",
              "var gd = document.getElementById('7461a934-940a-450b-b0af-0a5133b95d17');\n",
              "var x = new MutationObserver(function (mutations, observer) {{\n",
              "        var display = window.getComputedStyle(gd).display;\n",
              "        if (!display || display === 'none') {{\n",
              "            console.log([gd, 'removed!']);\n",
              "            Plotly.purge(gd);\n",
              "            observer.disconnect();\n",
              "        }}\n",
              "}});\n",
              "\n",
              "// Listen for the removal of the full notebook cells\n",
              "var notebookContainer = gd.closest('#notebook-container');\n",
              "if (notebookContainer) {{\n",
              "    x.observe(notebookContainer, {childList: true});\n",
              "}}\n",
              "\n",
              "// Listen for the clearing of the current output cell\n",
              "var outputEl = gd.closest('.output');\n",
              "if (outputEl) {{\n",
              "    x.observe(outputEl, {childList: true});\n",
              "}}\n",
              "\n",
              "                        })                };                            </script>        </div>\n",
              "</body>\n",
              "</html>"
            ]
          },
          "metadata": {},
          "output_type": "display_data"
        }
      ],
      "source": [
        "\n",
        "df_n=pd.DataFrame(dict1)\n",
        "fig=px.line(df_n,x='n_estimators',y=[\"r2_score_train\",\"r2_score_test\"],title=\"train_acc ,test_acc vs n_estimators\")\n",
        "fig.update_layout(title=\"train_acc ,test_acc vs n_estimators\",title_x=0.5,xaxis_title='n_estimators',yaxis_title='Accuracy')\n",
        "fig['layout']['title']['font']=dict(size=26)\n",
        "fig.show()"
      ]
    },
    {
      "cell_type": "code",
      "execution_count": null,
      "metadata": {
        "colab": {
          "background_save": true
        },
        "id": "0camwSydoMPZ"
      },
      "outputs": [],
      "source": [
        "dict2={\"max_depth\":range(4,15),\n",
        "       \"r2_score_train\":[],\n",
        "       \"r2_score_test\":[]}\n",
        "for i in dict2[\"max_depth\"]:\n",
        "  model=RandomForestRegressor(max_depth=i,n_estimators=95,criterion=\"squared_error\",random_state=1)\n",
        "  model.fit(X_train,Y_train)\n",
        "  y_pred=model.predict(X_train)\n",
        "  test_pred=model.predict(X_test)\n",
        "  dict2[\"r2_score_train\"]+=[r2_score(Y_train,y_pred)]\n",
        "  dict2[\"r2_score_test\"]+=[r2_score(Y_test,test_pred)]"
      ]
    },
    {
      "cell_type": "code",
      "execution_count": null,
      "metadata": {
        "colab": {
          "background_save": true
        },
        "id": "H6lUZVdWolng",
        "outputId": "0b7b4d7c-8f29-4117-8e9d-901b2e0e48ec"
      },
      "outputs": [
        {
          "data": {
            "text/html": [
              "<html>\n",
              "<head><meta charset=\"utf-8\" /></head>\n",
              "<body>\n",
              "    <div>            <script src=\"https://cdnjs.cloudflare.com/ajax/libs/mathjax/2.7.5/MathJax.js?config=TeX-AMS-MML_SVG\"></script><script type=\"text/javascript\">if (window.MathJax) {MathJax.Hub.Config({SVG: {font: \"STIX-Web\"}});}</script>                <script type=\"text/javascript\">window.PlotlyConfig = {MathJaxConfig: 'local'};</script>\n",
              "        <script src=\"https://cdn.plot.ly/plotly-2.8.3.min.js\"></script>                <div id=\"63d69799-79a9-4c3f-b918-f2dbf6b59b8f\" class=\"plotly-graph-div\" style=\"height:525px; width:100%;\"></div>            <script type=\"text/javascript\">                                    window.PLOTLYENV=window.PLOTLYENV || {};                                    if (document.getElementById(\"63d69799-79a9-4c3f-b918-f2dbf6b59b8f\")) {                    Plotly.newPlot(                        \"63d69799-79a9-4c3f-b918-f2dbf6b59b8f\",                        [{\"hovertemplate\":\"variable=r2_score_train<br>max_depth=%{x}<br>value=%{y}<extra></extra>\",\"legendgroup\":\"r2_score_train\",\"line\":{\"color\":\"#636efa\",\"dash\":\"solid\"},\"marker\":{\"symbol\":\"circle\"},\"mode\":\"lines\",\"name\":\"r2_score_train\",\"orientation\":\"v\",\"showlegend\":true,\"x\":[4,5,6,7,8,9,10,11,12,13,14],\"xaxis\":\"x\",\"y\":[0.01226503539671786,0.013859143979987887,0.01569903409130502,0.0181773944214918,0.022073438429627168,0.028397283939259665,0.038055963608393806,0.05226820724895265,0.07212157439448685,0.09857308431436296,0.13198476144567706],\"yaxis\":\"y\",\"type\":\"scatter\"},{\"hovertemplate\":\"variable=r2_score_test<br>max_depth=%{x}<br>value=%{y}<extra></extra>\",\"legendgroup\":\"r2_score_test\",\"line\":{\"color\":\"#EF553B\",\"dash\":\"solid\"},\"marker\":{\"symbol\":\"circle\"},\"mode\":\"lines\",\"name\":\"r2_score_test\",\"orientation\":\"v\",\"showlegend\":true,\"x\":[4,5,6,7,8,9,10,11,12,13,14],\"xaxis\":\"x\",\"y\":[0.012676223186129598,0.0137597270911336,0.01466239883996856,0.01499674495041825,0.015330174090139925,0.015406443801005865,0.015308081653700012,0.014977540005115864,0.014418547014139027,0.013684667692891339,0.012459156969370166],\"yaxis\":\"y\",\"type\":\"scatter\"}],                        {\"template\":{\"data\":{\"bar\":[{\"error_x\":{\"color\":\"#2a3f5f\"},\"error_y\":{\"color\":\"#2a3f5f\"},\"marker\":{\"line\":{\"color\":\"#E5ECF6\",\"width\":0.5},\"pattern\":{\"fillmode\":\"overlay\",\"size\":10,\"solidity\":0.2}},\"type\":\"bar\"}],\"barpolar\":[{\"marker\":{\"line\":{\"color\":\"#E5ECF6\",\"width\":0.5},\"pattern\":{\"fillmode\":\"overlay\",\"size\":10,\"solidity\":0.2}},\"type\":\"barpolar\"}],\"carpet\":[{\"aaxis\":{\"endlinecolor\":\"#2a3f5f\",\"gridcolor\":\"white\",\"linecolor\":\"white\",\"minorgridcolor\":\"white\",\"startlinecolor\":\"#2a3f5f\"},\"baxis\":{\"endlinecolor\":\"#2a3f5f\",\"gridcolor\":\"white\",\"linecolor\":\"white\",\"minorgridcolor\":\"white\",\"startlinecolor\":\"#2a3f5f\"},\"type\":\"carpet\"}],\"choropleth\":[{\"colorbar\":{\"outlinewidth\":0,\"ticks\":\"\"},\"type\":\"choropleth\"}],\"contour\":[{\"colorbar\":{\"outlinewidth\":0,\"ticks\":\"\"},\"colorscale\":[[0.0,\"#0d0887\"],[0.1111111111111111,\"#46039f\"],[0.2222222222222222,\"#7201a8\"],[0.3333333333333333,\"#9c179e\"],[0.4444444444444444,\"#bd3786\"],[0.5555555555555556,\"#d8576b\"],[0.6666666666666666,\"#ed7953\"],[0.7777777777777778,\"#fb9f3a\"],[0.8888888888888888,\"#fdca26\"],[1.0,\"#f0f921\"]],\"type\":\"contour\"}],\"contourcarpet\":[{\"colorbar\":{\"outlinewidth\":0,\"ticks\":\"\"},\"type\":\"contourcarpet\"}],\"heatmap\":[{\"colorbar\":{\"outlinewidth\":0,\"ticks\":\"\"},\"colorscale\":[[0.0,\"#0d0887\"],[0.1111111111111111,\"#46039f\"],[0.2222222222222222,\"#7201a8\"],[0.3333333333333333,\"#9c179e\"],[0.4444444444444444,\"#bd3786\"],[0.5555555555555556,\"#d8576b\"],[0.6666666666666666,\"#ed7953\"],[0.7777777777777778,\"#fb9f3a\"],[0.8888888888888888,\"#fdca26\"],[1.0,\"#f0f921\"]],\"type\":\"heatmap\"}],\"heatmapgl\":[{\"colorbar\":{\"outlinewidth\":0,\"ticks\":\"\"},\"colorscale\":[[0.0,\"#0d0887\"],[0.1111111111111111,\"#46039f\"],[0.2222222222222222,\"#7201a8\"],[0.3333333333333333,\"#9c179e\"],[0.4444444444444444,\"#bd3786\"],[0.5555555555555556,\"#d8576b\"],[0.6666666666666666,\"#ed7953\"],[0.7777777777777778,\"#fb9f3a\"],[0.8888888888888888,\"#fdca26\"],[1.0,\"#f0f921\"]],\"type\":\"heatmapgl\"}],\"histogram\":[{\"marker\":{\"pattern\":{\"fillmode\":\"overlay\",\"size\":10,\"solidity\":0.2}},\"type\":\"histogram\"}],\"histogram2d\":[{\"colorbar\":{\"outlinewidth\":0,\"ticks\":\"\"},\"colorscale\":[[0.0,\"#0d0887\"],[0.1111111111111111,\"#46039f\"],[0.2222222222222222,\"#7201a8\"],[0.3333333333333333,\"#9c179e\"],[0.4444444444444444,\"#bd3786\"],[0.5555555555555556,\"#d8576b\"],[0.6666666666666666,\"#ed7953\"],[0.7777777777777778,\"#fb9f3a\"],[0.8888888888888888,\"#fdca26\"],[1.0,\"#f0f921\"]],\"type\":\"histogram2d\"}],\"histogram2dcontour\":[{\"colorbar\":{\"outlinewidth\":0,\"ticks\":\"\"},\"colorscale\":[[0.0,\"#0d0887\"],[0.1111111111111111,\"#46039f\"],[0.2222222222222222,\"#7201a8\"],[0.3333333333333333,\"#9c179e\"],[0.4444444444444444,\"#bd3786\"],[0.5555555555555556,\"#d8576b\"],[0.6666666666666666,\"#ed7953\"],[0.7777777777777778,\"#fb9f3a\"],[0.8888888888888888,\"#fdca26\"],[1.0,\"#f0f921\"]],\"type\":\"histogram2dcontour\"}],\"mesh3d\":[{\"colorbar\":{\"outlinewidth\":0,\"ticks\":\"\"},\"type\":\"mesh3d\"}],\"parcoords\":[{\"line\":{\"colorbar\":{\"outlinewidth\":0,\"ticks\":\"\"}},\"type\":\"parcoords\"}],\"pie\":[{\"automargin\":true,\"type\":\"pie\"}],\"scatter\":[{\"marker\":{\"colorbar\":{\"outlinewidth\":0,\"ticks\":\"\"}},\"type\":\"scatter\"}],\"scatter3d\":[{\"line\":{\"colorbar\":{\"outlinewidth\":0,\"ticks\":\"\"}},\"marker\":{\"colorbar\":{\"outlinewidth\":0,\"ticks\":\"\"}},\"type\":\"scatter3d\"}],\"scattercarpet\":[{\"marker\":{\"colorbar\":{\"outlinewidth\":0,\"ticks\":\"\"}},\"type\":\"scattercarpet\"}],\"scattergeo\":[{\"marker\":{\"colorbar\":{\"outlinewidth\":0,\"ticks\":\"\"}},\"type\":\"scattergeo\"}],\"scattergl\":[{\"marker\":{\"colorbar\":{\"outlinewidth\":0,\"ticks\":\"\"}},\"type\":\"scattergl\"}],\"scattermapbox\":[{\"marker\":{\"colorbar\":{\"outlinewidth\":0,\"ticks\":\"\"}},\"type\":\"scattermapbox\"}],\"scatterpolar\":[{\"marker\":{\"colorbar\":{\"outlinewidth\":0,\"ticks\":\"\"}},\"type\":\"scatterpolar\"}],\"scatterpolargl\":[{\"marker\":{\"colorbar\":{\"outlinewidth\":0,\"ticks\":\"\"}},\"type\":\"scatterpolargl\"}],\"scatterternary\":[{\"marker\":{\"colorbar\":{\"outlinewidth\":0,\"ticks\":\"\"}},\"type\":\"scatterternary\"}],\"surface\":[{\"colorbar\":{\"outlinewidth\":0,\"ticks\":\"\"},\"colorscale\":[[0.0,\"#0d0887\"],[0.1111111111111111,\"#46039f\"],[0.2222222222222222,\"#7201a8\"],[0.3333333333333333,\"#9c179e\"],[0.4444444444444444,\"#bd3786\"],[0.5555555555555556,\"#d8576b\"],[0.6666666666666666,\"#ed7953\"],[0.7777777777777778,\"#fb9f3a\"],[0.8888888888888888,\"#fdca26\"],[1.0,\"#f0f921\"]],\"type\":\"surface\"}],\"table\":[{\"cells\":{\"fill\":{\"color\":\"#EBF0F8\"},\"line\":{\"color\":\"white\"}},\"header\":{\"fill\":{\"color\":\"#C8D4E3\"},\"line\":{\"color\":\"white\"}},\"type\":\"table\"}]},\"layout\":{\"annotationdefaults\":{\"arrowcolor\":\"#2a3f5f\",\"arrowhead\":0,\"arrowwidth\":1},\"autotypenumbers\":\"strict\",\"coloraxis\":{\"colorbar\":{\"outlinewidth\":0,\"ticks\":\"\"}},\"colorscale\":{\"diverging\":[[0,\"#8e0152\"],[0.1,\"#c51b7d\"],[0.2,\"#de77ae\"],[0.3,\"#f1b6da\"],[0.4,\"#fde0ef\"],[0.5,\"#f7f7f7\"],[0.6,\"#e6f5d0\"],[0.7,\"#b8e186\"],[0.8,\"#7fbc41\"],[0.9,\"#4d9221\"],[1,\"#276419\"]],\"sequential\":[[0.0,\"#0d0887\"],[0.1111111111111111,\"#46039f\"],[0.2222222222222222,\"#7201a8\"],[0.3333333333333333,\"#9c179e\"],[0.4444444444444444,\"#bd3786\"],[0.5555555555555556,\"#d8576b\"],[0.6666666666666666,\"#ed7953\"],[0.7777777777777778,\"#fb9f3a\"],[0.8888888888888888,\"#fdca26\"],[1.0,\"#f0f921\"]],\"sequentialminus\":[[0.0,\"#0d0887\"],[0.1111111111111111,\"#46039f\"],[0.2222222222222222,\"#7201a8\"],[0.3333333333333333,\"#9c179e\"],[0.4444444444444444,\"#bd3786\"],[0.5555555555555556,\"#d8576b\"],[0.6666666666666666,\"#ed7953\"],[0.7777777777777778,\"#fb9f3a\"],[0.8888888888888888,\"#fdca26\"],[1.0,\"#f0f921\"]]},\"colorway\":[\"#636efa\",\"#EF553B\",\"#00cc96\",\"#ab63fa\",\"#FFA15A\",\"#19d3f3\",\"#FF6692\",\"#B6E880\",\"#FF97FF\",\"#FECB52\"],\"font\":{\"color\":\"#2a3f5f\"},\"geo\":{\"bgcolor\":\"white\",\"lakecolor\":\"white\",\"landcolor\":\"#E5ECF6\",\"showlakes\":true,\"showland\":true,\"subunitcolor\":\"white\"},\"hoverlabel\":{\"align\":\"left\"},\"hovermode\":\"closest\",\"mapbox\":{\"style\":\"light\"},\"paper_bgcolor\":\"white\",\"plot_bgcolor\":\"#E5ECF6\",\"polar\":{\"angularaxis\":{\"gridcolor\":\"white\",\"linecolor\":\"white\",\"ticks\":\"\"},\"bgcolor\":\"#E5ECF6\",\"radialaxis\":{\"gridcolor\":\"white\",\"linecolor\":\"white\",\"ticks\":\"\"}},\"scene\":{\"xaxis\":{\"backgroundcolor\":\"#E5ECF6\",\"gridcolor\":\"white\",\"gridwidth\":2,\"linecolor\":\"white\",\"showbackground\":true,\"ticks\":\"\",\"zerolinecolor\":\"white\"},\"yaxis\":{\"backgroundcolor\":\"#E5ECF6\",\"gridcolor\":\"white\",\"gridwidth\":2,\"linecolor\":\"white\",\"showbackground\":true,\"ticks\":\"\",\"zerolinecolor\":\"white\"},\"zaxis\":{\"backgroundcolor\":\"#E5ECF6\",\"gridcolor\":\"white\",\"gridwidth\":2,\"linecolor\":\"white\",\"showbackground\":true,\"ticks\":\"\",\"zerolinecolor\":\"white\"}},\"shapedefaults\":{\"line\":{\"color\":\"#2a3f5f\"}},\"ternary\":{\"aaxis\":{\"gridcolor\":\"white\",\"linecolor\":\"white\",\"ticks\":\"\"},\"baxis\":{\"gridcolor\":\"white\",\"linecolor\":\"white\",\"ticks\":\"\"},\"bgcolor\":\"#E5ECF6\",\"caxis\":{\"gridcolor\":\"white\",\"linecolor\":\"white\",\"ticks\":\"\"}},\"title\":{\"x\":0.05},\"xaxis\":{\"automargin\":true,\"gridcolor\":\"white\",\"linecolor\":\"white\",\"ticks\":\"\",\"title\":{\"standoff\":15},\"zerolinecolor\":\"white\",\"zerolinewidth\":2},\"yaxis\":{\"automargin\":true,\"gridcolor\":\"white\",\"linecolor\":\"white\",\"ticks\":\"\",\"title\":{\"standoff\":15},\"zerolinecolor\":\"white\",\"zerolinewidth\":2}}},\"xaxis\":{\"anchor\":\"y\",\"domain\":[0.0,1.0],\"title\":{\"text\":\"n_estimators\"}},\"yaxis\":{\"anchor\":\"x\",\"domain\":[0.0,1.0],\"title\":{\"text\":\"Accuracy\"}},\"legend\":{\"title\":{\"text\":\"variable\"},\"tracegroupgap\":0},\"title\":{\"text\":\"train_acc ,test_acc vs n_estimators\",\"x\":0.5,\"font\":{\"size\":26}}},                        {\"responsive\": true}                    ).then(function(){\n",
              "                            \n",
              "var gd = document.getElementById('63d69799-79a9-4c3f-b918-f2dbf6b59b8f');\n",
              "var x = new MutationObserver(function (mutations, observer) {{\n",
              "        var display = window.getComputedStyle(gd).display;\n",
              "        if (!display || display === 'none') {{\n",
              "            console.log([gd, 'removed!']);\n",
              "            Plotly.purge(gd);\n",
              "            observer.disconnect();\n",
              "        }}\n",
              "}});\n",
              "\n",
              "// Listen for the removal of the full notebook cells\n",
              "var notebookContainer = gd.closest('#notebook-container');\n",
              "if (notebookContainer) {{\n",
              "    x.observe(notebookContainer, {childList: true});\n",
              "}}\n",
              "\n",
              "// Listen for the clearing of the current output cell\n",
              "var outputEl = gd.closest('.output');\n",
              "if (outputEl) {{\n",
              "    x.observe(outputEl, {childList: true});\n",
              "}}\n",
              "\n",
              "                        })                };                            </script>        </div>\n",
              "</body>\n",
              "</html>"
            ]
          },
          "metadata": {},
          "output_type": "display_data"
        }
      ],
      "source": [
        "df_n=pd.DataFrame(dict2)\n",
        "fig=px.line(df_n,x='max_depth',y=[\"r2_score_train\",\"r2_score_test\"],title=\"train_acc ,test_acc vs n_estimators\")\n",
        "fig.update_layout(title=\"train_acc ,test_acc vs n_estimators\",title_x=0.5,xaxis_title='n_estimators',yaxis_title='Accuracy')\n",
        "fig['layout']['title']['font']=dict(size=26)\n",
        "fig.show()"
      ]
    },
    {
      "cell_type": "code",
      "execution_count": null,
      "metadata": {
        "colab": {
          "background_save": true
        },
        "id": "Lwv43M7Na_KM",
        "outputId": "40f622dd-cac0-4e93-b66c-1ad9a68963bc"
      },
      "outputs": [
        {
          "name": "stdout",
          "output_type": "stream",
          "text": [
            "root_mean_squared_error: 0.8037462350905705\n",
            "r2_score: 0.028270046632351775\n",
            "Adj_r2: 0.02822686439205635\n"
          ]
        }
      ],
      "source": [
        "print(\"root_mean_squared_error:\",np.sqrt(mean_squared_error(Y_train,y_predict)))\n",
        "r2_score_train=r2_score(Y_train,y_predict)\n",
        "print(\"r2_score:\",r2_score_train)\n",
        "Adj_r2 = 1 - (1-r2_score_train)*(len(Y_train)-1)/(len(Y_train)-X_train.shape[1]-1)\n",
        "print(\"Adj_r2:\",Adj_r2)"
      ]
    },
    {
      "cell_type": "code",
      "execution_count": null,
      "metadata": {
        "colab": {
          "background_save": true
        },
        "id": "4lDcASjzbCwq",
        "outputId": "5e8dc5cf-834f-46d1-f9ab-a330d883494d"
      },
      "outputs": [
        {
          "name": "stdout",
          "output_type": "stream",
          "text": [
            "root_mean_squared_error: 0.8122133683857505\n",
            "r2_score: 0.015399103634418765\n",
            "Adj_r2: 0.015224063475064886\n"
          ]
        }
      ],
      "source": [
        "print(\"root_mean_squared_error:\",np.sqrt(mean_squared_error(Y_test,test_predict)))\n",
        "r2_score_test=r2_score(Y_test,test_predict)\n",
        "print(\"r2_score:\",r2_score_test)\n",
        "Adj_r2_test = 1 - (1-r2_score_test)*(len(Y_test)-1)/(len(Y_test)-X_train.shape[1]-1)\n",
        "print(\"Adj_r2:\",Adj_r2_test)"
      ]
    },
    {
      "cell_type": "code",
      "execution_count": null,
      "metadata": {
        "id": "GdevgVJxVkCl"
      },
      "outputs": [],
      "source": [
        "test=pd.read_csv(\"/content/drive/MyDrive/prjct/test.csv\")\n",
        "test.head()"
      ]
    },
    {
      "cell_type": "code",
      "execution_count": null,
      "metadata": {
        "id": "G3NwigiuV9FA"
      },
      "outputs": [],
      "source": [
        "test.loc[:,\"Time\"]=test.loc[:,\"Time\"].fillna(test[\"Time\"].mode()[0])\n",
        "test.loc[:,\"Road_Surface_Conditions\"]=test.loc[:,\"Road_Surface_Conditions\"].fillna(test[\"Road_Surface_Conditions\"].mode()[0])\n",
        "test.loc[:,\"Special_Conditions_at_Site\"]=test.loc[:,\"Special_Conditions_at_Site\"].fillna(test[\"Special_Conditions_at_Site\"].mode()[0])"
      ]
    },
    {
      "cell_type": "code",
      "execution_count": null,
      "metadata": {
        "id": "qXsVsoIoWP66"
      },
      "outputs": [],
      "source": [
        "df1=test.copy()"
      ]
    },
    {
      "cell_type": "code",
      "execution_count": null,
      "metadata": {
        "id": "IVQTzW4sWaDH"
      },
      "outputs": [],
      "source": [
        "test[df_object.columns]=ord.transform(test[df_object.columns])"
      ]
    },
    {
      "cell_type": "code",
      "execution_count": null,
      "metadata": {
        "id": "q21_paavWmxm"
      },
      "outputs": [],
      "source": [
        "change_Date_and_time(test)"
      ]
    },
    {
      "cell_type": "code",
      "execution_count": null,
      "metadata": {
        "id": "XzUKc0iwW3c6"
      },
      "outputs": [],
      "source": [
        "\n",
        "test.head()"
      ]
    },
    {
      "cell_type": "code",
      "execution_count": null,
      "metadata": {
        "id": "18EqinLP25v4"
      },
      "outputs": [],
      "source": [
        "b=test.groupby([\"month_in_year\",\"Day_of_Week\"]).Accident_ID.count()\n",
        "b"
      ]
    },
    {
      "cell_type": "code",
      "execution_count": null,
      "metadata": {
        "id": "0CbW-uJR2qAa"
      },
      "outputs": [],
      "source": [
        "def change_test_week_values(row):\n",
        "  return b[row.loc[\"month_in_year\"],row.loc[\"Day_of_Week\"]]\n",
        "test.loc[:,\"changed_week_days\"]=test.apply(change_test_week_values,axis=1)"
      ]
    },
    {
      "cell_type": "code",
      "execution_count": null,
      "metadata": {
        "id": "fDh8pzq117qt"
      },
      "outputs": [],
      "source": [
        "test.loc[:,\"changed_week_days\"]=(test.loc[:,\"changed_week_days\"]-test.loc[:,\"changed_week_days\"].mean())/test.loc[:,\"changed_week_days\"].std()"
      ]
    },
    {
      "cell_type": "code",
      "execution_count": null,
      "metadata": {
        "id": "VotBZFfXFoWz"
      },
      "outputs": [],
      "source": [
        "test.loc[:,\"changed_week_days\"]"
      ]
    },
    {
      "cell_type": "code",
      "execution_count": null,
      "metadata": {
        "id": "tJv4ZNAV4jv4"
      },
      "outputs": [],
      "source": [
        "test.head()"
      ]
    },
    {
      "cell_type": "code",
      "execution_count": null,
      "metadata": {
        "id": "TMVLHxYaW5t1"
      },
      "outputs": [],
      "source": [
        "test=test.loc[:,df_train.columns]"
      ]
    },
    {
      "cell_type": "code",
      "execution_count": null,
      "metadata": {
        "id": "c2l7sygtXCm_"
      },
      "outputs": [],
      "source": [
        "test.head()"
      ]
    },
    {
      "cell_type": "code",
      "execution_count": null,
      "metadata": {
        "id": "J9Po3k7GXEMU"
      },
      "outputs": [],
      "source": [
        "test.shape"
      ]
    },
    {
      "cell_type": "code",
      "execution_count": null,
      "metadata": {
        "id": "J4S7ZXV1XHJ3"
      },
      "outputs": [],
      "source": [
        "test_predictions=tree_model.predict(test)"
      ]
    },
    {
      "cell_type": "code",
      "execution_count": null,
      "metadata": {
        "id": "X9-lTa6YoVCZ"
      },
      "outputs": [],
      "source": [
        "test_predictions_rd=rd_model.predict(test)"
      ]
    },
    {
      "cell_type": "code",
      "execution_count": null,
      "metadata": {
        "id": "TH42hceEX3-t"
      },
      "outputs": [],
      "source": [
        "test[\"Casualties\"]=test_predictions_rd"
      ]
    },
    {
      "cell_type": "code",
      "execution_count": null,
      "metadata": {
        "id": "OD2oMv7zX7HS"
      },
      "outputs": [],
      "source": [
        "postcode=list(df1.groupby(\"postcode\").postcode.count().index)\n",
        "test.loc[:,\"Accident_ID\"]=df1.Accident_ID\n",
        "test.loc[:,\"postcode\"]=df1.postcode"
      ]
    },
    {
      "cell_type": "code",
      "execution_count": null,
      "metadata": {
        "id": "g-4_Ww1BYP4H"
      },
      "outputs": [],
      "source": [
        "AQI=test.groupby(\"postcode\").Casualties.sum()/test.groupby(\"postcode\").Accident_ID.count()"
      ]
    },
    {
      "cell_type": "code",
      "execution_count": null,
      "metadata": {
        "id": "kQBCQEBGYfc-"
      },
      "outputs": [],
      "source": [
        "sub_df=pd.DataFrame({\"postcode\":postcode,\"Accident_risk_index\":AQI.values})"
      ]
    },
    {
      "cell_type": "code",
      "execution_count": null,
      "metadata": {
        "id": "wrY_fVIiYiep"
      },
      "outputs": [],
      "source": [
        "sub_df.head()"
      ]
    },
    {
      "cell_type": "code",
      "execution_count": null,
      "metadata": {
        "id": "IpQx_wp7YkrQ"
      },
      "outputs": [],
      "source": [
        "sub_df.to_csv(\"submission25.csv\",index=False)"
      ]
    },
    {
      "cell_type": "code",
      "execution_count": null,
      "metadata": {
        "id": "OOnrySnsYq3W"
      },
      "outputs": [],
      "source": [
        ""
      ]
    }
  ],
  "metadata": {
    "colab": {
      "collapsed_sections": [],
      "name": "Predict accident risk score for unique postcode.ipynb",
      "provenance": []
    },
    "kernelspec": {
      "display_name": "Python 3",
      "name": "python3"
    },
    "language_info": {
      "name": "python"
    }
  },
  "nbformat": 4,
  "nbformat_minor": 0
}